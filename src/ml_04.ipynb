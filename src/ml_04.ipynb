{
  "cells": [
    {
      "cell_type": "markdown",
      "metadata": {},
      "source": [
        "link to [Colab](https://colab.research.google.com/drive/1JK2ZOFO3S0B_uFvrSgVPP8Qi7Mo5yqim?usp=sharing)"
      ]
    },
    {
      "cell_type": "markdown",
      "metadata": {
        "id": "hHGuysMJf8v1"
      },
      "source": [
        "# Description  \n",
        "Одной из самых больших проблем при покупке подержанного автомобиля на автоаукционе является риск того, что у машины могут быть серьезные проблемы, которые не позволят продать ее клиентам. В автомобильном сообществе такие неудачные покупки называют \"киками\".\n",
        "\n",
        "Кикнутые автомобили часто становятся результатом подделки одометров, механических проблем, которые дилер не в состоянии решить, проблем с получением права собственности на автомобиль от продавца или других непредвиденных проблем. Кикнутые автомобили могут обойтись дилерам очень дорого, если учесть транспортные расходы, затраты на ремонт и рыночные потери при перепродаже автомобиля.\n",
        "\n",
        "Специалисты по моделированию, способные определить, какие автомобили имеют более высокий риск стать \"киком\", могут принести реальную пользу дилерским центрам, стремящимся предоставить своим клиентам наилучший выбор товарного запаса.\n",
        "\n",
        "Задача этого конкурса - предсказать, является ли автомобиль, купленный на аукционе, \"киком\" (неудачной покупкой).  \n",
        "- **Target:** `'IsBadBuy'`"
      ]
    },
    {
      "cell_type": "markdown",
      "metadata": {
        "id": "PmVDK7B0eib7"
      },
      "source": [
        "Field Name\t\t---\t\tDefinition\n",
        "- RefID\t\t\t\t---        Unique (sequential) number assigned to vehicles\n",
        "- IsBadBuy\t(target)\t\t--- \tIdentifies if the kicked vehicle was an avoidable - purchase\n",
        "- PurchDate\t\t\t--- \tThe Date the vehicle was Purchased at Auction\n",
        "- Auction\t\t\t--- \t\tAuction provider at which the  vehicle was purchased\n",
        "- VehYear\t\t\t--- \t\tThe manufacturer's year of the vehicle\n",
        "- VehicleAge\t\t--- \t\tThe Years elapsed since the manufacturer's year\n",
        "- Make\t\t\t\t--- \tVehicle Manufacturer\n",
        "- Model\t\t\t\t--- \tVehicle Model\n",
        "- Trim\t\t\t\t--- \tVehicle Trim Level\n",
        "- SubModel\t\t\t--- \tVehicle Submodel\n",
        "- Color\t\t\t\t--- \tVehicle Color\n",
        "- Transmission\t\t--- \t\tVehicles transmission type (Automatic, Manual)\n",
        "- WheelTypeID\t\t--- \t\tThe type id of the vehicle wheel\n",
        "- WheelType\t\t\t--- \tThe vehicle wheel type description (Alloy, Covers)\n",
        "- VehOdo\t\t\t--- \t\tThe vehicles odometer reading\n",
        "- Nationality\t\t--- \t\tThe Manufacturer's country\n",
        "- Size\t\t\t\t--- \tThe size category of the vehicle (Compact, SUV, etc.)\n",
        "- TopThreeAmericanName\t\t--- \tIdentifies if the manufacturer is one of the top three American manufacturers\n",
        "- MMRAcquisitionAuctionAveragePrice\t--- Acquisition price for this vehicle in average condition at time of purchase\n",
        "- MMRAcquisitionAuctionCleanPrice\t--- \tAcquisition price for this vehicle in the above Average condition at time of purchase\n",
        "- MMRAcquisitionRetailAveragePrice\t--- Acquisition price for this vehicle in the retail market in average condition at time of purchase\n",
        "- MMRAcquisitonRetailCleanPrice\t\t--- Acquisition price for this vehicle in the retail market in above average condition at time of purchase\n",
        "- MMRCurrentAuctionAveragePrice\t\t--- Acquisition price for this vehicle in average condition as of current day\n",
        "- MMRCurrentAuctionCleanPrice\t\t--- Acquisition price for this vehicle in the above condition as of current day\n",
        "- MMRCurrentRetailAveragePrice\t\t--- Acquisition price for this vehicle in the retail market in average condition as of current day\n",
        "- MMRCurrentRetailCleanPrice\t\t--- Acquisition price for this vehicle in the retail market in above average condition as of current day\n",
        "- PRIMEUNIT\t\t\t\t--- Identifies if the vehicle would have a higher demand than a standard purchase\n",
        "- AcquisitionType\t\t\t\t--- Identifies how the vehicle was aquired (Auction buy, trade in, etc)\n",
        "- AUCGUART\t\t\t\t--- The level guarntee provided by auction for the vehicle (Green light - Guaranteed/arbitratable, Yellow Light - caution/issue, red light - sold as is)\n",
        "- KickDate\t\t\t\t--- Date the vehicle was kicked back to the auction\n",
        "- BYRNO\t\t\t\t\t--- Unique number assigned to the buyer that purchased the vehicle\n",
        "- VNZIP                ---                    Zipcode where the car was purchased\n",
        "- VNST                ---                     State where the the car was purchased\n",
        "- VehBCost\t\t\t\t--- Acquisition cost paid for the vehicle at time of purchase\n",
        "- IsOnlineSale\t\t--- \t\tIdentifies if the vehicle was originally purchased online\n",
        "- WarrantyCost       ---                      Warranty price (term=36month  and millage=36K)\n",
        "\n",
        "\n",
        "\n"
      ]
    },
    {
      "cell_type": "markdown",
      "metadata": {
        "id": "wFxKmKTnzxh_"
      },
      "source": [
        "# 1. Download data from Don’tGetKicked competition."
      ]
    },
    {
      "cell_type": "code",
      "execution_count": 68,
      "metadata": {
        "id": "4d8QLMjzzZNj"
      },
      "outputs": [],
      "source": [
        "import pandas as pd\n",
        "import numpy as np\n",
        "from collections import Counter\n",
        "from sklearn.model_selection import train_test_split\n",
        "from sklearn.preprocessing import OneHotEncoder\n",
        "from sklearn.preprocessing import LabelEncoder\n",
        "from sklearn.compose import ColumnTransformer\n",
        "from sklearn.preprocessing import MinMaxScaler\n",
        "from sklearn.linear_model import LogisticRegression\n",
        "from sklearn.naive_bayes import GaussianNB\n",
        "from sklearn.neighbors import KNeighborsClassifier\n",
        "from sklearn.metrics import accuracy_score, roc_curve, auc, roc_auc_score, precision_recall_curve\n",
        "from sklearn import svm\n",
        "from sklearn.model_selection import GridSearchCV\n",
        "import warnings\n",
        "warnings. filterwarnings('ignore')"
      ]
    },
    {
      "cell_type": "code",
      "execution_count": 2,
      "metadata": {
        "colab": {
          "base_uri": "https://localhost:8080/",
          "height": 412
        },
        "id": "MxaNDmeMzZKj",
        "outputId": "30371574-b852-4397-f1f0-c1edbbe253d3"
      },
      "outputs": [
        {
          "data": {
            "application/vnd.google.colaboratory.intrinsic+json": {
              "type": "dataframe",
              "variable_name": "df"
            },
            "text/html": [
              "\n",
              "  <div id=\"df-bbe7e4e7-320b-4f96-ac99-bf6c72c26d6d\" class=\"colab-df-container\">\n",
              "    <div>\n",
              "<style scoped>\n",
              "    .dataframe tbody tr th:only-of-type {\n",
              "        vertical-align: middle;\n",
              "    }\n",
              "\n",
              "    .dataframe tbody tr th {\n",
              "        vertical-align: top;\n",
              "    }\n",
              "\n",
              "    .dataframe thead th {\n",
              "        text-align: right;\n",
              "    }\n",
              "</style>\n",
              "<table border=\"1\" class=\"dataframe\">\n",
              "  <thead>\n",
              "    <tr style=\"text-align: right;\">\n",
              "      <th></th>\n",
              "      <th>RefId</th>\n",
              "      <th>IsBadBuy</th>\n",
              "      <th>PurchDate</th>\n",
              "      <th>Auction</th>\n",
              "      <th>VehYear</th>\n",
              "      <th>VehicleAge</th>\n",
              "      <th>Make</th>\n",
              "      <th>Model</th>\n",
              "      <th>Trim</th>\n",
              "      <th>SubModel</th>\n",
              "      <th>...</th>\n",
              "      <th>MMRCurrentRetailAveragePrice</th>\n",
              "      <th>MMRCurrentRetailCleanPrice</th>\n",
              "      <th>PRIMEUNIT</th>\n",
              "      <th>AUCGUART</th>\n",
              "      <th>BYRNO</th>\n",
              "      <th>VNZIP1</th>\n",
              "      <th>VNST</th>\n",
              "      <th>VehBCost</th>\n",
              "      <th>IsOnlineSale</th>\n",
              "      <th>WarrantyCost</th>\n",
              "    </tr>\n",
              "  </thead>\n",
              "  <tbody>\n",
              "    <tr>\n",
              "      <th>0</th>\n",
              "      <td>1</td>\n",
              "      <td>0</td>\n",
              "      <td>12/7/2009</td>\n",
              "      <td>ADESA</td>\n",
              "      <td>2006</td>\n",
              "      <td>3</td>\n",
              "      <td>MAZDA</td>\n",
              "      <td>MAZDA3</td>\n",
              "      <td>i</td>\n",
              "      <td>4D SEDAN I</td>\n",
              "      <td>...</td>\n",
              "      <td>11597.0</td>\n",
              "      <td>12409.0</td>\n",
              "      <td>NaN</td>\n",
              "      <td>NaN</td>\n",
              "      <td>21973</td>\n",
              "      <td>33619</td>\n",
              "      <td>FL</td>\n",
              "      <td>7100.0</td>\n",
              "      <td>0</td>\n",
              "      <td>1113</td>\n",
              "    </tr>\n",
              "    <tr>\n",
              "      <th>1</th>\n",
              "      <td>2</td>\n",
              "      <td>0</td>\n",
              "      <td>12/7/2009</td>\n",
              "      <td>ADESA</td>\n",
              "      <td>2004</td>\n",
              "      <td>5</td>\n",
              "      <td>DODGE</td>\n",
              "      <td>1500 RAM PICKUP 2WD</td>\n",
              "      <td>ST</td>\n",
              "      <td>QUAD CAB 4.7L SLT</td>\n",
              "      <td>...</td>\n",
              "      <td>11374.0</td>\n",
              "      <td>12791.0</td>\n",
              "      <td>NaN</td>\n",
              "      <td>NaN</td>\n",
              "      <td>19638</td>\n",
              "      <td>33619</td>\n",
              "      <td>FL</td>\n",
              "      <td>7600.0</td>\n",
              "      <td>0</td>\n",
              "      <td>1053</td>\n",
              "    </tr>\n",
              "    <tr>\n",
              "      <th>2</th>\n",
              "      <td>3</td>\n",
              "      <td>0</td>\n",
              "      <td>12/7/2009</td>\n",
              "      <td>ADESA</td>\n",
              "      <td>2005</td>\n",
              "      <td>4</td>\n",
              "      <td>DODGE</td>\n",
              "      <td>STRATUS V6</td>\n",
              "      <td>SXT</td>\n",
              "      <td>4D SEDAN SXT FFV</td>\n",
              "      <td>...</td>\n",
              "      <td>7146.0</td>\n",
              "      <td>8702.0</td>\n",
              "      <td>NaN</td>\n",
              "      <td>NaN</td>\n",
              "      <td>19638</td>\n",
              "      <td>33619</td>\n",
              "      <td>FL</td>\n",
              "      <td>4900.0</td>\n",
              "      <td>0</td>\n",
              "      <td>1389</td>\n",
              "    </tr>\n",
              "    <tr>\n",
              "      <th>3</th>\n",
              "      <td>4</td>\n",
              "      <td>0</td>\n",
              "      <td>12/7/2009</td>\n",
              "      <td>ADESA</td>\n",
              "      <td>2004</td>\n",
              "      <td>5</td>\n",
              "      <td>DODGE</td>\n",
              "      <td>NEON</td>\n",
              "      <td>SXT</td>\n",
              "      <td>4D SEDAN</td>\n",
              "      <td>...</td>\n",
              "      <td>4375.0</td>\n",
              "      <td>5518.0</td>\n",
              "      <td>NaN</td>\n",
              "      <td>NaN</td>\n",
              "      <td>19638</td>\n",
              "      <td>33619</td>\n",
              "      <td>FL</td>\n",
              "      <td>4100.0</td>\n",
              "      <td>0</td>\n",
              "      <td>630</td>\n",
              "    </tr>\n",
              "    <tr>\n",
              "      <th>4</th>\n",
              "      <td>5</td>\n",
              "      <td>0</td>\n",
              "      <td>12/7/2009</td>\n",
              "      <td>ADESA</td>\n",
              "      <td>2005</td>\n",
              "      <td>4</td>\n",
              "      <td>FORD</td>\n",
              "      <td>FOCUS</td>\n",
              "      <td>ZX3</td>\n",
              "      <td>2D COUPE ZX3</td>\n",
              "      <td>...</td>\n",
              "      <td>6739.0</td>\n",
              "      <td>7911.0</td>\n",
              "      <td>NaN</td>\n",
              "      <td>NaN</td>\n",
              "      <td>19638</td>\n",
              "      <td>33619</td>\n",
              "      <td>FL</td>\n",
              "      <td>4000.0</td>\n",
              "      <td>0</td>\n",
              "      <td>1020</td>\n",
              "    </tr>\n",
              "  </tbody>\n",
              "</table>\n",
              "<p>5 rows × 34 columns</p>\n",
              "</div>\n",
              "    <div class=\"colab-df-buttons\">\n",
              "\n",
              "  <div class=\"colab-df-container\">\n",
              "    <button class=\"colab-df-convert\" onclick=\"convertToInteractive('df-bbe7e4e7-320b-4f96-ac99-bf6c72c26d6d')\"\n",
              "            title=\"Convert this dataframe to an interactive table.\"\n",
              "            style=\"display:none;\">\n",
              "\n",
              "  <svg xmlns=\"http://www.w3.org/2000/svg\" height=\"24px\" viewBox=\"0 -960 960 960\">\n",
              "    <path d=\"M120-120v-720h720v720H120Zm60-500h600v-160H180v160Zm220 220h160v-160H400v160Zm0 220h160v-160H400v160ZM180-400h160v-160H180v160Zm440 0h160v-160H620v160ZM180-180h160v-160H180v160Zm440 0h160v-160H620v160Z\"/>\n",
              "  </svg>\n",
              "    </button>\n",
              "\n",
              "  <style>\n",
              "    .colab-df-container {\n",
              "      display:flex;\n",
              "      gap: 12px;\n",
              "    }\n",
              "\n",
              "    .colab-df-convert {\n",
              "      background-color: #E8F0FE;\n",
              "      border: none;\n",
              "      border-radius: 50%;\n",
              "      cursor: pointer;\n",
              "      display: none;\n",
              "      fill: #1967D2;\n",
              "      height: 32px;\n",
              "      padding: 0 0 0 0;\n",
              "      width: 32px;\n",
              "    }\n",
              "\n",
              "    .colab-df-convert:hover {\n",
              "      background-color: #E2EBFA;\n",
              "      box-shadow: 0px 1px 2px rgba(60, 64, 67, 0.3), 0px 1px 3px 1px rgba(60, 64, 67, 0.15);\n",
              "      fill: #174EA6;\n",
              "    }\n",
              "\n",
              "    .colab-df-buttons div {\n",
              "      margin-bottom: 4px;\n",
              "    }\n",
              "\n",
              "    [theme=dark] .colab-df-convert {\n",
              "      background-color: #3B4455;\n",
              "      fill: #D2E3FC;\n",
              "    }\n",
              "\n",
              "    [theme=dark] .colab-df-convert:hover {\n",
              "      background-color: #434B5C;\n",
              "      box-shadow: 0px 1px 3px 1px rgba(0, 0, 0, 0.15);\n",
              "      filter: drop-shadow(0px 1px 2px rgba(0, 0, 0, 0.3));\n",
              "      fill: #FFFFFF;\n",
              "    }\n",
              "  </style>\n",
              "\n",
              "    <script>\n",
              "      const buttonEl =\n",
              "        document.querySelector('#df-bbe7e4e7-320b-4f96-ac99-bf6c72c26d6d button.colab-df-convert');\n",
              "      buttonEl.style.display =\n",
              "        google.colab.kernel.accessAllowed ? 'block' : 'none';\n",
              "\n",
              "      async function convertToInteractive(key) {\n",
              "        const element = document.querySelector('#df-bbe7e4e7-320b-4f96-ac99-bf6c72c26d6d');\n",
              "        const dataTable =\n",
              "          await google.colab.kernel.invokeFunction('convertToInteractive',\n",
              "                                                    [key], {});\n",
              "        if (!dataTable) return;\n",
              "\n",
              "        const docLinkHtml = 'Like what you see? Visit the ' +\n",
              "          '<a target=\"_blank\" href=https://colab.research.google.com/notebooks/data_table.ipynb>data table notebook</a>'\n",
              "          + ' to learn more about interactive tables.';\n",
              "        element.innerHTML = '';\n",
              "        dataTable['output_type'] = 'display_data';\n",
              "        await google.colab.output.renderOutput(dataTable, element);\n",
              "        const docLink = document.createElement('div');\n",
              "        docLink.innerHTML = docLinkHtml;\n",
              "        element.appendChild(docLink);\n",
              "      }\n",
              "    </script>\n",
              "  </div>\n",
              "\n",
              "\n",
              "<div id=\"df-0837c7e4-b78e-451d-82d4-7106f4151976\">\n",
              "  <button class=\"colab-df-quickchart\" onclick=\"quickchart('df-0837c7e4-b78e-451d-82d4-7106f4151976')\"\n",
              "            title=\"Suggest charts\"\n",
              "            style=\"display:none;\">\n",
              "\n",
              "<svg xmlns=\"http://www.w3.org/2000/svg\" height=\"24px\"viewBox=\"0 0 24 24\"\n",
              "     width=\"24px\">\n",
              "    <g>\n",
              "        <path d=\"M19 3H5c-1.1 0-2 .9-2 2v14c0 1.1.9 2 2 2h14c1.1 0 2-.9 2-2V5c0-1.1-.9-2-2-2zM9 17H7v-7h2v7zm4 0h-2V7h2v10zm4 0h-2v-4h2v4z\"/>\n",
              "    </g>\n",
              "</svg>\n",
              "  </button>\n",
              "\n",
              "<style>\n",
              "  .colab-df-quickchart {\n",
              "      --bg-color: #E8F0FE;\n",
              "      --fill-color: #1967D2;\n",
              "      --hover-bg-color: #E2EBFA;\n",
              "      --hover-fill-color: #174EA6;\n",
              "      --disabled-fill-color: #AAA;\n",
              "      --disabled-bg-color: #DDD;\n",
              "  }\n",
              "\n",
              "  [theme=dark] .colab-df-quickchart {\n",
              "      --bg-color: #3B4455;\n",
              "      --fill-color: #D2E3FC;\n",
              "      --hover-bg-color: #434B5C;\n",
              "      --hover-fill-color: #FFFFFF;\n",
              "      --disabled-bg-color: #3B4455;\n",
              "      --disabled-fill-color: #666;\n",
              "  }\n",
              "\n",
              "  .colab-df-quickchart {\n",
              "    background-color: var(--bg-color);\n",
              "    border: none;\n",
              "    border-radius: 50%;\n",
              "    cursor: pointer;\n",
              "    display: none;\n",
              "    fill: var(--fill-color);\n",
              "    height: 32px;\n",
              "    padding: 0;\n",
              "    width: 32px;\n",
              "  }\n",
              "\n",
              "  .colab-df-quickchart:hover {\n",
              "    background-color: var(--hover-bg-color);\n",
              "    box-shadow: 0 1px 2px rgba(60, 64, 67, 0.3), 0 1px 3px 1px rgba(60, 64, 67, 0.15);\n",
              "    fill: var(--button-hover-fill-color);\n",
              "  }\n",
              "\n",
              "  .colab-df-quickchart-complete:disabled,\n",
              "  .colab-df-quickchart-complete:disabled:hover {\n",
              "    background-color: var(--disabled-bg-color);\n",
              "    fill: var(--disabled-fill-color);\n",
              "    box-shadow: none;\n",
              "  }\n",
              "\n",
              "  .colab-df-spinner {\n",
              "    border: 2px solid var(--fill-color);\n",
              "    border-color: transparent;\n",
              "    border-bottom-color: var(--fill-color);\n",
              "    animation:\n",
              "      spin 1s steps(1) infinite;\n",
              "  }\n",
              "\n",
              "  @keyframes spin {\n",
              "    0% {\n",
              "      border-color: transparent;\n",
              "      border-bottom-color: var(--fill-color);\n",
              "      border-left-color: var(--fill-color);\n",
              "    }\n",
              "    20% {\n",
              "      border-color: transparent;\n",
              "      border-left-color: var(--fill-color);\n",
              "      border-top-color: var(--fill-color);\n",
              "    }\n",
              "    30% {\n",
              "      border-color: transparent;\n",
              "      border-left-color: var(--fill-color);\n",
              "      border-top-color: var(--fill-color);\n",
              "      border-right-color: var(--fill-color);\n",
              "    }\n",
              "    40% {\n",
              "      border-color: transparent;\n",
              "      border-right-color: var(--fill-color);\n",
              "      border-top-color: var(--fill-color);\n",
              "    }\n",
              "    60% {\n",
              "      border-color: transparent;\n",
              "      border-right-color: var(--fill-color);\n",
              "    }\n",
              "    80% {\n",
              "      border-color: transparent;\n",
              "      border-right-color: var(--fill-color);\n",
              "      border-bottom-color: var(--fill-color);\n",
              "    }\n",
              "    90% {\n",
              "      border-color: transparent;\n",
              "      border-bottom-color: var(--fill-color);\n",
              "    }\n",
              "  }\n",
              "</style>\n",
              "\n",
              "  <script>\n",
              "    async function quickchart(key) {\n",
              "      const quickchartButtonEl =\n",
              "        document.querySelector('#' + key + ' button');\n",
              "      quickchartButtonEl.disabled = true;  // To prevent multiple clicks.\n",
              "      quickchartButtonEl.classList.add('colab-df-spinner');\n",
              "      try {\n",
              "        const charts = await google.colab.kernel.invokeFunction(\n",
              "            'suggestCharts', [key], {});\n",
              "      } catch (error) {\n",
              "        console.error('Error during call to suggestCharts:', error);\n",
              "      }\n",
              "      quickchartButtonEl.classList.remove('colab-df-spinner');\n",
              "      quickchartButtonEl.classList.add('colab-df-quickchart-complete');\n",
              "    }\n",
              "    (() => {\n",
              "      let quickchartButtonEl =\n",
              "        document.querySelector('#df-0837c7e4-b78e-451d-82d4-7106f4151976 button');\n",
              "      quickchartButtonEl.style.display =\n",
              "        google.colab.kernel.accessAllowed ? 'block' : 'none';\n",
              "    })();\n",
              "  </script>\n",
              "</div>\n",
              "    </div>\n",
              "  </div>\n"
            ],
            "text/plain": [
              "   RefId  IsBadBuy  PurchDate Auction  VehYear  VehicleAge   Make  \\\n",
              "0      1         0  12/7/2009   ADESA     2006           3  MAZDA   \n",
              "1      2         0  12/7/2009   ADESA     2004           5  DODGE   \n",
              "2      3         0  12/7/2009   ADESA     2005           4  DODGE   \n",
              "3      4         0  12/7/2009   ADESA     2004           5  DODGE   \n",
              "4      5         0  12/7/2009   ADESA     2005           4   FORD   \n",
              "\n",
              "                 Model Trim           SubModel  ...  \\\n",
              "0               MAZDA3    i         4D SEDAN I  ...   \n",
              "1  1500 RAM PICKUP 2WD   ST  QUAD CAB 4.7L SLT  ...   \n",
              "2           STRATUS V6  SXT   4D SEDAN SXT FFV  ...   \n",
              "3                 NEON  SXT           4D SEDAN  ...   \n",
              "4                FOCUS  ZX3       2D COUPE ZX3  ...   \n",
              "\n",
              "  MMRCurrentRetailAveragePrice MMRCurrentRetailCleanPrice  PRIMEUNIT AUCGUART  \\\n",
              "0                      11597.0                    12409.0        NaN      NaN   \n",
              "1                      11374.0                    12791.0        NaN      NaN   \n",
              "2                       7146.0                     8702.0        NaN      NaN   \n",
              "3                       4375.0                     5518.0        NaN      NaN   \n",
              "4                       6739.0                     7911.0        NaN      NaN   \n",
              "\n",
              "   BYRNO VNZIP1 VNST VehBCost  IsOnlineSale  WarrantyCost  \n",
              "0  21973  33619   FL   7100.0             0          1113  \n",
              "1  19638  33619   FL   7600.0             0          1053  \n",
              "2  19638  33619   FL   4900.0             0          1389  \n",
              "3  19638  33619   FL   4100.0             0           630  \n",
              "4  19638  33619   FL   4000.0             0          1020  \n",
              "\n",
              "[5 rows x 34 columns]"
            ]
          },
          "execution_count": 2,
          "metadata": {},
          "output_type": "execute_result"
        }
      ],
      "source": [
        "df = pd.read_csv('data/training.csv')\n",
        "df.head(5)"
      ]
    },
    {
      "cell_type": "code",
      "execution_count": 3,
      "metadata": {
        "colab": {
          "base_uri": "https://localhost:8080/"
        },
        "id": "DnA4emR1zn6U",
        "outputId": "0ab30f34-646f-4380-aa55-7c7b9e9494ea"
      },
      "outputs": [
        {
          "name": "stdout",
          "output_type": "stream",
          "text": [
            "<class 'pandas.core.frame.DataFrame'>\n",
            "RangeIndex: 72983 entries, 0 to 72982\n",
            "Data columns (total 34 columns):\n",
            " #   Column                             Non-Null Count  Dtype  \n",
            "---  ------                             --------------  -----  \n",
            " 0   RefId                              72983 non-null  int64  \n",
            " 1   IsBadBuy                           72983 non-null  int64  \n",
            " 2   PurchDate                          72983 non-null  object \n",
            " 3   Auction                            72983 non-null  object \n",
            " 4   VehYear                            72983 non-null  int64  \n",
            " 5   VehicleAge                         72983 non-null  int64  \n",
            " 6   Make                               72983 non-null  object \n",
            " 7   Model                              72983 non-null  object \n",
            " 8   Trim                               70623 non-null  object \n",
            " 9   SubModel                           72975 non-null  object \n",
            " 10  Color                              72975 non-null  object \n",
            " 11  Transmission                       72974 non-null  object \n",
            " 12  WheelTypeID                        69814 non-null  float64\n",
            " 13  WheelType                          69809 non-null  object \n",
            " 14  VehOdo                             72983 non-null  int64  \n",
            " 15  Nationality                        72978 non-null  object \n",
            " 16  Size                               72978 non-null  object \n",
            " 17  TopThreeAmericanName               72978 non-null  object \n",
            " 18  MMRAcquisitionAuctionAveragePrice  72965 non-null  float64\n",
            " 19  MMRAcquisitionAuctionCleanPrice    72965 non-null  float64\n",
            " 20  MMRAcquisitionRetailAveragePrice   72965 non-null  float64\n",
            " 21  MMRAcquisitonRetailCleanPrice      72965 non-null  float64\n",
            " 22  MMRCurrentAuctionAveragePrice      72668 non-null  float64\n",
            " 23  MMRCurrentAuctionCleanPrice        72668 non-null  float64\n",
            " 24  MMRCurrentRetailAveragePrice       72668 non-null  float64\n",
            " 25  MMRCurrentRetailCleanPrice         72668 non-null  float64\n",
            " 26  PRIMEUNIT                          3419 non-null   object \n",
            " 27  AUCGUART                           3419 non-null   object \n",
            " 28  BYRNO                              72983 non-null  int64  \n",
            " 29  VNZIP1                             72983 non-null  int64  \n",
            " 30  VNST                               72983 non-null  object \n",
            " 31  VehBCost                           72983 non-null  float64\n",
            " 32  IsOnlineSale                       72983 non-null  int64  \n",
            " 33  WarrantyCost                       72983 non-null  int64  \n",
            "dtypes: float64(10), int64(9), object(15)\n",
            "memory usage: 18.9+ MB\n"
          ]
        }
      ],
      "source": [
        "df.info()"
      ]
    },
    {
      "cell_type": "code",
      "execution_count": 4,
      "metadata": {
        "colab": {
          "base_uri": "https://localhost:8080/"
        },
        "id": "J0-oOh3zLyea",
        "outputId": "4c730f7a-aa53-483d-a13d-c6d5fcac87cf"
      },
      "outputs": [
        {
          "data": {
            "text/plain": [
              "0    64007\n",
              "1     8976\n",
              "Name: IsBadBuy, dtype: int64"
            ]
          },
          "execution_count": 4,
          "metadata": {},
          "output_type": "execute_result"
        }
      ],
      "source": [
        "df.IsBadBuy.value_counts()"
      ]
    },
    {
      "cell_type": "markdown",
      "metadata": {
        "id": "jtKrt2kcz_S0"
      },
      "source": [
        "# 2. Design train/validation/test split.\n",
        "Use “PurchDate” field for splitting, test must be later in time than validation, the same goes for validation and train: train.PurchDate < valid.PurchDate < test.PurchDate.\n",
        "Use the first 33% of dates for train, last 33% of dates for test, and middle 33% for validation set.\n",
        "Don’t use the test dataset until the end!"
      ]
    },
    {
      "cell_type": "code",
      "execution_count": 5,
      "metadata": {
        "id": "b5QJOOC_3q8l"
      },
      "outputs": [],
      "source": [
        "df_prepared = df.copy()"
      ]
    },
    {
      "cell_type": "markdown",
      "metadata": {
        "id": "IevM210Qdo4r"
      },
      "source": [
        "проверим дубликаты пропуски"
      ]
    },
    {
      "cell_type": "code",
      "execution_count": 6,
      "metadata": {
        "colab": {
          "base_uri": "https://localhost:8080/"
        },
        "id": "Ix_y6LPMdv9F",
        "outputId": "a201571e-1d8e-494c-9ad0-e90c538cd1fb"
      },
      "outputs": [
        {
          "data": {
            "text/plain": [
              "False    72983\n",
              "dtype: int64"
            ]
          },
          "execution_count": 6,
          "metadata": {},
          "output_type": "execute_result"
        }
      ],
      "source": [
        "df_prepared.duplicated().value_counts()"
      ]
    },
    {
      "cell_type": "code",
      "execution_count": 7,
      "metadata": {
        "id": "0nmxA4Mjd8d4"
      },
      "outputs": [],
      "source": [
        "def print_useful_rows_info(df):\n",
        "    \"\"\"Количество и процент заполненных строк\"\"\"\n",
        "    print('Amount of useful rows:', len(df.dropna()))\n",
        "    print('Persentage of filled rows', round(len(df.dropna()) / len(df) * 100, 2))"
      ]
    },
    {
      "cell_type": "code",
      "execution_count": 8,
      "metadata": {
        "colab": {
          "base_uri": "https://localhost:8080/"
        },
        "id": "LN4Wbv2Pd8XV",
        "outputId": "560ce173-497c-4799-d98f-9083ffeb2279"
      },
      "outputs": [
        {
          "name": "stdout",
          "output_type": "stream",
          "text": [
            "Amount of useful rows: 3276\n",
            "Persentage of filled rows 4.49\n"
          ]
        }
      ],
      "source": [
        "print_useful_rows_info(df_prepared)"
      ]
    },
    {
      "cell_type": "code",
      "execution_count": 9,
      "metadata": {
        "id": "tFXipn0td8Pl"
      },
      "outputs": [],
      "source": [
        "def blank_rows_percentage(df):\n",
        "  \"\"\"Вывод колонок и процента пропусков в каждой\"\"\"\n",
        "  print((df.isna().sum() / len(df) * 100).sort_values(ascending=False))"
      ]
    },
    {
      "cell_type": "code",
      "execution_count": 10,
      "metadata": {
        "colab": {
          "base_uri": "https://localhost:8080/"
        },
        "id": "bLggg4Vld8AP",
        "outputId": "4772c973-ec65-44c3-861d-30487dcb4860"
      },
      "outputs": [
        {
          "name": "stdout",
          "output_type": "stream",
          "text": [
            "PRIMEUNIT                            95.315347\n",
            "AUCGUART                             95.315347\n",
            "WheelType                             4.348958\n",
            "WheelTypeID                           4.342107\n",
            "Trim                                  3.233630\n",
            "MMRCurrentAuctionAveragePrice         0.431607\n",
            "MMRCurrentRetailCleanPrice            0.431607\n",
            "MMRCurrentRetailAveragePrice          0.431607\n",
            "MMRCurrentAuctionCleanPrice           0.431607\n",
            "MMRAcquisitionAuctionAveragePrice     0.024663\n",
            "MMRAcquisitionAuctionCleanPrice       0.024663\n",
            "MMRAcquisitionRetailAveragePrice      0.024663\n",
            "MMRAcquisitonRetailCleanPrice         0.024663\n",
            "Transmission                          0.012332\n",
            "SubModel                              0.010961\n",
            "Color                                 0.010961\n",
            "Nationality                           0.006851\n",
            "Size                                  0.006851\n",
            "TopThreeAmericanName                  0.006851\n",
            "BYRNO                                 0.000000\n",
            "VNZIP1                                0.000000\n",
            "VNST                                  0.000000\n",
            "VehBCost                              0.000000\n",
            "IsOnlineSale                          0.000000\n",
            "RefId                                 0.000000\n",
            "IsBadBuy                              0.000000\n",
            "VehOdo                                0.000000\n",
            "Model                                 0.000000\n",
            "Make                                  0.000000\n",
            "VehicleAge                            0.000000\n",
            "VehYear                               0.000000\n",
            "Auction                               0.000000\n",
            "PurchDate                             0.000000\n",
            "WarrantyCost                          0.000000\n",
            "dtype: float64\n"
          ]
        }
      ],
      "source": [
        "blank_rows_percentage(df_prepared)"
      ]
    },
    {
      "cell_type": "markdown",
      "metadata": {
        "id": "lnLsWb4Ylj0L"
      },
      "source": [
        "в столбцах  PRIMEUNIT  и AUCGUART больше 90% пропусков, удалим эти столбцы"
      ]
    },
    {
      "cell_type": "code",
      "execution_count": 11,
      "metadata": {
        "id": "8_pVRcNEl2ar"
      },
      "outputs": [],
      "source": [
        "df_prepared.drop(columns=['PRIMEUNIT', 'AUCGUART'], axis=0, inplace=True)"
      ]
    },
    {
      "cell_type": "code",
      "execution_count": 12,
      "metadata": {
        "colab": {
          "base_uri": "https://localhost:8080/"
        },
        "id": "cl0-o2MUmTZr",
        "outputId": "9b1c27be-f315-4755-ea3a-44135cb62a8f"
      },
      "outputs": [
        {
          "name": "stdout",
          "output_type": "stream",
          "text": [
            "Amount of useful rows: 67270\n",
            "Persentage of filled rows 92.17\n"
          ]
        }
      ],
      "source": [
        "print_useful_rows_info(df_prepared)"
      ]
    },
    {
      "cell_type": "markdown",
      "metadata": {
        "id": "Wcz8bEWMmeHa"
      },
      "source": [
        "остальные пропуски заполним"
      ]
    },
    {
      "cell_type": "code",
      "execution_count": 13,
      "metadata": {
        "colab": {
          "base_uri": "https://localhost:8080/"
        },
        "id": "C-qpXjwUmmK2",
        "outputId": "931d62be-c631-4329-fe2d-01f364610d3b"
      },
      "outputs": [
        {
          "data": {
            "text/plain": [
              "Alloy      36050\n",
              "Covers     33004\n",
              "Special      755\n",
              "Name: WheelType, dtype: int64"
            ]
          },
          "execution_count": 13,
          "metadata": {},
          "output_type": "execute_result"
        }
      ],
      "source": [
        "df_prepared['WheelType'].value_counts()"
      ]
    },
    {
      "cell_type": "code",
      "execution_count": 14,
      "metadata": {
        "colab": {
          "base_uri": "https://localhost:8080/"
        },
        "id": "QdMpuUb4oYuw",
        "outputId": "b6210df0-7dd2-4969-a7d5-305f148ddae0"
      },
      "outputs": [
        {
          "data": {
            "text/plain": [
              "3174"
            ]
          },
          "execution_count": 14,
          "metadata": {},
          "output_type": "execute_result"
        }
      ],
      "source": [
        "df_prepared['WheelType'].isna().sum()"
      ]
    },
    {
      "cell_type": "code",
      "execution_count": 15,
      "metadata": {
        "colab": {
          "base_uri": "https://localhost:8080/"
        },
        "id": "MnqcFThJml_3",
        "outputId": "eeadc78b-b283-4196-f0f2-7ddcd5032fb0"
      },
      "outputs": [
        {
          "data": {
            "text/plain": [
              "3169"
            ]
          },
          "execution_count": 15,
          "metadata": {},
          "output_type": "execute_result"
        }
      ],
      "source": [
        "df_prepared[df_prepared['WheelType'].isna()]['WheelTypeID'].isna().sum()"
      ]
    },
    {
      "cell_type": "code",
      "execution_count": 16,
      "metadata": {
        "colab": {
          "base_uri": "https://localhost:8080/"
        },
        "id": "RHQiEZfNvhni",
        "outputId": "eb5dab12-576f-4278-9045-2d1aadecff3f"
      },
      "outputs": [
        {
          "data": {
            "text/plain": [
              "1.0    36050\n",
              "2.0    33004\n",
              "3.0      755\n",
              "0.0        5\n",
              "Name: WheelTypeID, dtype: int64"
            ]
          },
          "execution_count": 16,
          "metadata": {},
          "output_type": "execute_result"
        }
      ],
      "source": [
        "df_prepared['WheelTypeID'].value_counts()"
      ]
    },
    {
      "cell_type": "markdown",
      "metadata": {
        "id": "V0bpFfrYoPAA"
      },
      "source": [
        "чтобы сохранить больше данных, заполним ячейки как 'other'"
      ]
    },
    {
      "cell_type": "code",
      "execution_count": 17,
      "metadata": {
        "id": "ZLsB4yWdmlyL"
      },
      "outputs": [],
      "source": [
        "df_prepared['WheelType'] = df_prepared['WheelType'].fillna('other')\n",
        "df_prepared['WheelTypeID'] = df_prepared['WheelTypeID'].fillna(-1.0)"
      ]
    },
    {
      "cell_type": "code",
      "execution_count": 18,
      "metadata": {
        "colab": {
          "base_uri": "https://localhost:8080/"
        },
        "id": "LUdSXaKppAUD",
        "outputId": "a40f16fb-1b98-477e-adfc-8bd3981dfc6d"
      },
      "outputs": [
        {
          "data": {
            "text/plain": [
              "Bas    13950\n",
              "LS     10174\n",
              "SE      9348\n",
              "SXT     3825\n",
              "LT      3540\n",
              "       ...  \n",
              "Har        1\n",
              "LL         1\n",
              "JLX        1\n",
              "JLS        1\n",
              "L 3        1\n",
              "Name: Trim, Length: 134, dtype: int64"
            ]
          },
          "execution_count": 18,
          "metadata": {},
          "output_type": "execute_result"
        }
      ],
      "source": [
        "df_prepared['Trim'].value_counts()"
      ]
    },
    {
      "cell_type": "code",
      "execution_count": 19,
      "metadata": {
        "id": "j8hAXlN9pRu-"
      },
      "outputs": [],
      "source": [
        "df_prepared['Trim'] = df_prepared['Trim'].fillna('other')"
      ]
    },
    {
      "cell_type": "code",
      "execution_count": 20,
      "metadata": {
        "colab": {
          "base_uri": "https://localhost:8080/"
        },
        "id": "dE0T145aqFMt",
        "outputId": "2ba5a901-cdc8-425c-ca6b-9fa1960d42a1"
      },
      "outputs": [
        {
          "name": "stdout",
          "output_type": "stream",
          "text": [
            "Amount of useful rows: 72658\n",
            "Persentage of filled rows 99.55\n"
          ]
        }
      ],
      "source": [
        "print_useful_rows_info(df_prepared)"
      ]
    },
    {
      "cell_type": "code",
      "execution_count": 21,
      "metadata": {
        "colab": {
          "base_uri": "https://localhost:8080/"
        },
        "id": "U9AHBpyHrQpy",
        "outputId": "6c27d02d-5cde-497a-ca6e-e485bf48cfb0"
      },
      "outputs": [
        {
          "data": {
            "text/plain": [
              "0    0.898462\n",
              "1    0.101538\n",
              "Name: IsBadBuy, dtype: float64"
            ]
          },
          "execution_count": 21,
          "metadata": {},
          "output_type": "execute_result"
        }
      ],
      "source": [
        "df_prepared[df_prepared.isnull().any(axis=1)]['IsBadBuy'].value_counts(normalize=True)"
      ]
    },
    {
      "cell_type": "code",
      "execution_count": 22,
      "metadata": {
        "colab": {
          "base_uri": "https://localhost:8080/"
        },
        "id": "3-kw2pbstbcO",
        "outputId": "879fd363-5018-4c5f-b3c3-a2deaa9516e1"
      },
      "outputs": [
        {
          "data": {
            "text/plain": [
              "0    0.877012\n",
              "1    0.122988\n",
              "Name: IsBadBuy, dtype: float64"
            ]
          },
          "execution_count": 22,
          "metadata": {},
          "output_type": "execute_result"
        }
      ],
      "source": [
        "df_prepared[df_prepared.notnull()]['IsBadBuy'].value_counts(normalize=True)"
      ]
    },
    {
      "cell_type": "markdown",
      "metadata": {
        "id": "GVvEOvReqONd"
      },
      "source": [
        "остальных пропусков меньше 0,5% и они имеют тот же дисбаланс классов целевой переменной, поэтому\n",
        "можно их удалить"
      ]
    },
    {
      "cell_type": "code",
      "execution_count": 23,
      "metadata": {
        "id": "LfeluSM_uSnG"
      },
      "outputs": [],
      "source": [
        "df_prepared.dropna(inplace=True)"
      ]
    },
    {
      "cell_type": "markdown",
      "metadata": {
        "id": "D-Pvs4GJuiAC"
      },
      "source": [
        "преобразуем категориальные переменные"
      ]
    },
    {
      "cell_type": "markdown",
      "metadata": {
        "id": "Xic0TORG42iZ"
      },
      "source": [
        "удалим разные айдишники"
      ]
    },
    {
      "cell_type": "code",
      "execution_count": 24,
      "metadata": {
        "id": "DWxILyl741Q-"
      },
      "outputs": [],
      "source": [
        "df_prepared.drop(columns=['RefId', 'BYRNO'], axis=1, inplace=True)"
      ]
    },
    {
      "cell_type": "markdown",
      "metadata": {
        "id": "4rNG9tIAkEFv"
      },
      "source": [
        "преобразуем категориальные переменные"
      ]
    },
    {
      "cell_type": "code",
      "execution_count": 25,
      "metadata": {
        "id": "0hs8Ax6A78uX"
      },
      "outputs": [],
      "source": [
        "df_prepared['Model'] = df_prepared['Model'].astype('category')\n",
        "df_prepared['SubModel'] = df_prepared['SubModel'].astype('category')\n",
        "df_prepared['Auction'] = df_prepared['Auction'].astype('category')\n",
        "df_prepared['Make'] = df_prepared['Make'].astype('category')\n",
        "df_prepared['Trim'] = df_prepared['Trim'].astype('category')\n",
        "df_prepared['Color'] = df_prepared['Color'].astype('category')\n",
        "df_prepared['Transmission'] = df_prepared['Transmission'].astype('category')\n",
        "df_prepared['Nationality'] = df_prepared['Nationality'].astype('category')\n",
        "df_prepared['VNST'] = df_prepared['VNST'].astype('category')\n",
        "df_prepared['VNZIP1'] = df_prepared['VNZIP1'].astype('category')\n",
        "df_prepared['WheelType'] = df_prepared['WheelType'].astype('category')\n",
        "df_prepared['Size'] = df_prepared['Size'].astype('category')\n",
        "df_prepared['TopThreeAmericanName'] = df_prepared['TopThreeAmericanName'].astype('category')"
      ]
    },
    {
      "cell_type": "code",
      "execution_count": 26,
      "metadata": {
        "colab": {
          "base_uri": "https://localhost:8080/"
        },
        "id": "BgSTcTpK247H",
        "outputId": "febddb1b-5292-40bf-933f-076ee92dc20d"
      },
      "outputs": [
        {
          "data": {
            "text/plain": [
              "dtype('O')"
            ]
          },
          "execution_count": 26,
          "metadata": {},
          "output_type": "execute_result"
        }
      ],
      "source": [
        "df_prepared['PurchDate'].dtype"
      ]
    },
    {
      "cell_type": "markdown",
      "metadata": {
        "id": "hW9R-dGM3Jc5"
      },
      "source": [
        "Как видим 'PurchDate' является типом объект, преобразуем в дату"
      ]
    },
    {
      "cell_type": "code",
      "execution_count": 27,
      "metadata": {
        "colab": {
          "base_uri": "https://localhost:8080/"
        },
        "id": "aGqLlCeX5TrL",
        "outputId": "51a46001-9dc0-498b-de8e-d7b67775ee48"
      },
      "outputs": [
        {
          "name": "stdout",
          "output_type": "stream",
          "text": [
            "All dates are valid.\n"
          ]
        }
      ],
      "source": [
        "df_prepared['PurchDate'] = pd.to_datetime(df_prepared['PurchDate'], errors='coerce') #ставим NaT в случае ошибки\n",
        "\n",
        "if df_prepared['PurchDate'].notnull().all():\n",
        "    print(\"All dates are valid.\")\n",
        "else:\n",
        "    print(\"Some dates are invalid.\")"
      ]
    },
    {
      "cell_type": "code",
      "execution_count": 28,
      "metadata": {
        "colab": {
          "base_uri": "https://localhost:8080/"
        },
        "id": "cEEHfYHwun1M",
        "outputId": "5a3d32b2-93ca-48fc-c53e-443b7cd12095"
      },
      "outputs": [
        {
          "name": "stdout",
          "output_type": "stream",
          "text": [
            "<class 'pandas.core.frame.DataFrame'>\n",
            "Int64Index: 72658 entries, 0 to 72982\n",
            "Data columns (total 30 columns):\n",
            " #   Column                             Non-Null Count  Dtype         \n",
            "---  ------                             --------------  -----         \n",
            " 0   IsBadBuy                           72658 non-null  int64         \n",
            " 1   PurchDate                          72658 non-null  datetime64[ns]\n",
            " 2   Auction                            72658 non-null  category      \n",
            " 3   VehYear                            72658 non-null  int64         \n",
            " 4   VehicleAge                         72658 non-null  int64         \n",
            " 5   Make                               72658 non-null  category      \n",
            " 6   Model                              72658 non-null  category      \n",
            " 7   Trim                               72658 non-null  category      \n",
            " 8   SubModel                           72658 non-null  category      \n",
            " 9   Color                              72658 non-null  category      \n",
            " 10  Transmission                       72658 non-null  category      \n",
            " 11  WheelTypeID                        72658 non-null  float64       \n",
            " 12  WheelType                          72658 non-null  category      \n",
            " 13  VehOdo                             72658 non-null  int64         \n",
            " 14  Nationality                        72658 non-null  category      \n",
            " 15  Size                               72658 non-null  category      \n",
            " 16  TopThreeAmericanName               72658 non-null  category      \n",
            " 17  MMRAcquisitionAuctionAveragePrice  72658 non-null  float64       \n",
            " 18  MMRAcquisitionAuctionCleanPrice    72658 non-null  float64       \n",
            " 19  MMRAcquisitionRetailAveragePrice   72658 non-null  float64       \n",
            " 20  MMRAcquisitonRetailCleanPrice      72658 non-null  float64       \n",
            " 21  MMRCurrentAuctionAveragePrice      72658 non-null  float64       \n",
            " 22  MMRCurrentAuctionCleanPrice        72658 non-null  float64       \n",
            " 23  MMRCurrentRetailAveragePrice       72658 non-null  float64       \n",
            " 24  MMRCurrentRetailCleanPrice         72658 non-null  float64       \n",
            " 25  VNZIP1                             72658 non-null  category      \n",
            " 26  VNST                               72658 non-null  category      \n",
            " 27  VehBCost                           72658 non-null  float64       \n",
            " 28  IsOnlineSale                       72658 non-null  int64         \n",
            " 29  WarrantyCost                       72658 non-null  int64         \n",
            "dtypes: category(13), datetime64[ns](1), float64(10), int64(6)\n",
            "memory usage: 11.2 MB\n"
          ]
        }
      ],
      "source": [
        "df_prepared.info()"
      ]
    },
    {
      "cell_type": "code",
      "execution_count": 30,
      "metadata": {
        "colab": {
          "base_uri": "https://localhost:8080/"
        },
        "id": "QbEqfZMPB4TS",
        "outputId": "501b240f-04af-4aab-9beb-483888b74203"
      },
      "outputs": [
        {
          "data": {
            "text/plain": [
              "Timestamp('2009-01-05 00:00:00')"
            ]
          },
          "execution_count": 30,
          "metadata": {},
          "output_type": "execute_result"
        }
      ],
      "source": [
        "df_prepared['PurchDate'].min()"
      ]
    },
    {
      "cell_type": "code",
      "execution_count": 31,
      "metadata": {
        "colab": {
          "base_uri": "https://localhost:8080/"
        },
        "id": "o6CFB1zvCK3P",
        "outputId": "f916176e-e34e-4029-de94-8aee7b7eb845"
      },
      "outputs": [
        {
          "data": {
            "text/plain": [
              "Timestamp('2010-12-30 00:00:00')"
            ]
          },
          "execution_count": 31,
          "metadata": {},
          "output_type": "execute_result"
        }
      ],
      "source": [
        "df_prepared['PurchDate'].max()"
      ]
    },
    {
      "cell_type": "code",
      "execution_count": 32,
      "metadata": {
        "id": "jPfoW669CM5C"
      },
      "outputs": [],
      "source": [
        "df_prepared.sort_values(by='PurchDate', inplace=True)"
      ]
    },
    {
      "cell_type": "code",
      "execution_count": 33,
      "metadata": {
        "colab": {
          "base_uri": "https://localhost:8080/"
        },
        "id": "AvRoHp-DDLgy",
        "outputId": "4898fb01-1c9e-4798-9c0e-61b5ce3ae775"
      },
      "outputs": [
        {
          "name": "stdout",
          "output_type": "stream",
          "text": [
            "train date from 2009-01-05 00:00:00 to 2009-09-16 00:00:00 size:24340\n",
            "val   date from 2009-09-16 00:00:00 to 2010-05-18 00:00:00 size:24340\n",
            "test  date from 2010-05-18 00:00:00 to 2010-12-30 00:00:00 size:23978\n"
          ]
        }
      ],
      "source": [
        "train_val, test = train_test_split(df_prepared, test_size=0.33, shuffle=False)\n",
        "train, val = train_test_split(train_val, test_size=0.5, shuffle=False)\n",
        "\n",
        "print(f\"train date from {train['PurchDate'].min()} to {train['PurchDate'].max()} size:{train.shape[0]}\")\n",
        "print(f\"val   date from {val['PurchDate'].min()} to {val['PurchDate'].max()} size:{val.shape[0]}\")\n",
        "print(f\"test  date from {test['PurchDate'].min()} to {test['PurchDate'].max()} size:{test.shape[0]}\")"
      ]
    },
    {
      "cell_type": "markdown",
      "metadata": {
        "id": "WwZyq6onGlw_"
      },
      "source": [
        "# 3. Preprocess categorical variables\n",
        "Use LabelEncoder or OneHotEncoder from sklearn to preprocess categorical variables. Be careful with data leakage (fit Encoder on train and apply on validation & test). Consider another encoding approach if you meet new categorical values in valid & test (unseen in the training dataset), for example: https://contrib.scikit-learn.org/category_encoders/count.html"
      ]
    },
    {
      "cell_type": "markdown",
      "metadata": {
        "id": "Goa5NBGmIXRA"
      },
      "source": [
        "Handling New Categories\n",
        "If you encounter new categories in the validation or test datasets that were not present in the training dataset, you have a few options:\n",
        "\n",
        "- Drop the rows with the new categories in the validation and test datasets. This approach is straightforward but may result in losing valuable data.\n",
        "- Create a new category (e.g., \"Unknown\") for these new categories. This approach is less drastic but may introduce bias if the \"Unknown\" category is significantly different from the known categories.\n",
        "- Re-fit the encoder on the combined training, validation, and test data. This approach is more flexible but may lead to data leakage if not handled carefully.  \n",
        "\n",
        "In practice, the choice depends on the specific context and the importance of avoiding data leakage versus preserving data integrity.\n",
        "\n"
      ]
    },
    {
      "cell_type": "code",
      "execution_count": 34,
      "metadata": {
        "id": "63-_E4oT68_I"
      },
      "outputs": [],
      "source": [
        "X_train = train.drop(columns=['IsBadBuy', 'PurchDate'], axis=1)\n",
        "y_train = train['IsBadBuy']\n",
        "\n",
        "X_val = val.drop(columns=['IsBadBuy', 'PurchDate'], axis=1)\n",
        "y_val = val['IsBadBuy']\n",
        "\n",
        "X_test = test.drop(columns=['IsBadBuy', 'PurchDate'], axis=1)\n",
        "y_test = test['IsBadBuy']"
      ]
    },
    {
      "cell_type": "markdown",
      "metadata": {
        "id": "u9wDUfGPkga9"
      },
      "source": [
        "**For hot encoder:**  \n",
        "Model  \n",
        "SubModel  \n",
        "Auction  \n",
        "Make  \n",
        "Trim  \n",
        "Color  \n",
        "Transmission  \n",
        "Nationality  \n",
        "VNST  \n",
        "VNZIP1  "
      ]
    },
    {
      "cell_type": "code",
      "execution_count": 36,
      "metadata": {
        "colab": {
          "base_uri": "https://localhost:8080/"
        },
        "id": "AH9jznzJIWGz",
        "outputId": "14d7ff8c-8b88-4f90-afa3-8936944eb87b"
      },
      "outputs": [
        {
          "name": "stderr",
          "output_type": "stream",
          "text": [
            "/usr/local/lib/python3.10/dist-packages/sklearn/preprocessing/_encoders.py:868: FutureWarning: `sparse` was renamed to `sparse_output` in version 1.2 and will be removed in 1.4. `sparse_output` is ignored unless you leave `sparse` to its default value.\n",
            "  warnings.warn(\n"
          ]
        }
      ],
      "source": [
        "list_ohe_features = ['Model',\n",
        "                    'SubModel',\n",
        "                    'Auction',\n",
        "                    'Make',\n",
        "                    'Trim',\n",
        "                    'Color',\n",
        "                    'Transmission',\n",
        "                    'Nationality',\n",
        "                    'VNST',\n",
        "                    'VNZIP1']\n",
        "encoder = OneHotEncoder(sparse=False, handle_unknown='ignore')\n",
        "\n",
        "encoded = encoder.fit(X_train[list_ohe_features])\n",
        "\n",
        "X_train_ohe = pd.DataFrame(encoder.transform(X_train[list_ohe_features]), columns=encoded.get_feature_names_out())\n",
        "X_train = pd.concat([X_train.reset_index(), X_train_ohe.reset_index()], axis=1).drop(['index'], axis=1)\n",
        "X_train.drop(list_ohe_features, axis=1, inplace=True)\n",
        "\n",
        "X_val_ohe = pd.DataFrame(encoder.transform(X_val[list_ohe_features]), columns=encoded.get_feature_names_out())\n",
        "X_val = pd.concat([X_val.reset_index(), X_val_ohe.reset_index()], axis=1).drop(['index'], axis=1)\n",
        "X_val.drop(list_ohe_features, axis=1, inplace=True)\n",
        "\n",
        "X_test_ohe = pd.DataFrame(encoder.transform(X_test[list_ohe_features]), columns=encoded.get_feature_names_out())\n",
        "X_test = pd.concat([X_test.reset_index(), X_test_ohe.reset_index()], axis=1).drop(['index'], axis=1)\n",
        "X_test.drop(list_ohe_features, axis=1, inplace=True)"
      ]
    },
    {
      "cell_type": "code",
      "execution_count": 38,
      "metadata": {
        "colab": {
          "base_uri": "https://localhost:8080/"
        },
        "id": "Tglhd75lP29y",
        "outputId": "aeec0660-1396-4447-da41-4c31f1ea59b2"
      },
      "outputs": [
        {
          "data": {
            "text/plain": [
              "(24340, 1809)"
            ]
          },
          "execution_count": 38,
          "metadata": {},
          "output_type": "execute_result"
        }
      ],
      "source": [
        "X_train.shape"
      ]
    },
    {
      "cell_type": "markdown",
      "metadata": {
        "id": "jrlv8sQDhVgm"
      },
      "source": [
        "**For label encoder:**  \n",
        "WheelTypeID  \n",
        "WheelType  \n",
        "Size  \n",
        "TopThreeAmericanName  "
      ]
    },
    {
      "cell_type": "code",
      "execution_count": 39,
      "metadata": {
        "colab": {
          "base_uri": "https://localhost:8080/"
        },
        "id": "RxPJaNwLp_Dn",
        "outputId": "d303d408-b421-4f80-d5a2-a49915c364ee"
      },
      "outputs": [
        {
          "name": "stdout",
          "output_type": "stream",
          "text": [
            "<class 'pandas.core.frame.DataFrame'>\n",
            "RangeIndex: 23978 entries, 0 to 23977\n",
            "Data columns (total 3 columns):\n",
            " #   Column                Non-Null Count  Dtype   \n",
            "---  ------                --------------  -----   \n",
            " 0   WheelType             23978 non-null  category\n",
            " 1   Size                  23978 non-null  category\n",
            " 2   TopThreeAmericanName  23978 non-null  category\n",
            "dtypes: category(3)\n",
            "memory usage: 71.2 KB\n"
          ]
        }
      ],
      "source": [
        "X_test[['WheelType', 'Size', 'TopThreeAmericanName']].info()"
      ]
    },
    {
      "cell_type": "code",
      "execution_count": 40,
      "metadata": {
        "id": "J0p5KXGfolzg"
      },
      "outputs": [],
      "source": [
        "list_le_features = ['WheelType',\n",
        "                    'Size',\n",
        "                    'TopThreeAmericanName']\n",
        "le = LabelEncoder()\n",
        "\n",
        "for f in list_le_features:\n",
        "    le.fit(X_train[f])\n",
        "\n",
        "    X_train[f] = pd.DataFrame(le.transform(X_train[f]))\n",
        "    X_val[f] = pd.DataFrame(le.transform(X_val[f]))\n",
        "    X_test[f] = pd.DataFrame(le.transform(X_test[f]))"
      ]
    },
    {
      "cell_type": "code",
      "execution_count": 41,
      "metadata": {
        "colab": {
          "base_uri": "https://localhost:8080/"
        },
        "id": "qxzb1zLmynsn",
        "outputId": "13a2a8d3-f1bb-403a-fa09-214e19a26f09"
      },
      "outputs": [
        {
          "data": {
            "text/plain": [
              "2    8468\n",
              "0    8090\n",
              "1    4600\n",
              "3    3182\n",
              "Name: TopThreeAmericanName, dtype: int64"
            ]
          },
          "execution_count": 41,
          "metadata": {},
          "output_type": "execute_result"
        }
      ],
      "source": [
        "X_train['TopThreeAmericanName'].value_counts()"
      ]
    },
    {
      "cell_type": "code",
      "execution_count": 42,
      "metadata": {
        "colab": {
          "base_uri": "https://localhost:8080/"
        },
        "id": "F0P-fvx8-3k7",
        "outputId": "efcbbca7-1683-4f1e-d64c-b3256e5a66d0"
      },
      "outputs": [
        {
          "data": {
            "text/plain": [
              "(24340, 1809)"
            ]
          },
          "execution_count": 42,
          "metadata": {},
          "output_type": "execute_result"
        }
      ],
      "source": [
        "X_train.shape"
      ]
    },
    {
      "cell_type": "markdown",
      "metadata": {
        "id": "8jpEb2anzRmv"
      },
      "source": [
        "# 4. Train: LogisticRegression, GaussianNB, KNN from sklearn\n",
        " on the training dataset and check the quality of your algorithms on the validation dataset. The dependent variable (IsBadBuy) is binary. Don’t forget to normalize your datasets before training models.  \n",
        "\n",
        "You must receive at least 0.15 Gini score (the best of all four). Which algorithm performs better? Why?"
      ]
    },
    {
      "cell_type": "markdown",
      "metadata": {
        "id": "bV0DVGDGCCGc"
      },
      "source": [
        "Нормализация величин"
      ]
    },
    {
      "cell_type": "code",
      "execution_count": 43,
      "metadata": {
        "colab": {
          "base_uri": "https://localhost:8080/",
          "height": 320
        },
        "id": "i4QlAR4pByA0",
        "outputId": "077ec66c-67dd-4a3e-ca46-0b02332b35ad"
      },
      "outputs": [
        {
          "data": {
            "application/vnd.google.colaboratory.intrinsic+json": {
              "summary": "{\n  \"name\": \"df_prepared\",\n  \"rows\": 8,\n  \"fields\": [\n    {\n      \"column\": \"IsBadBuy\",\n      \"properties\": {\n        \"dtype\": \"number\",\n        \"std\": 25688.4089381925,\n        \"min\": 0.0,\n        \"max\": 72658.0,\n        \"num_unique_values\": 5,\n        \"samples\": [\n          0.12308348702138787,\n          1.0,\n          0.32853527629638213\n        ],\n        \"semantic_type\": \"\",\n        \"description\": \"\"\n      }\n    },\n    {\n      \"column\": \"VehYear\",\n      \"properties\": {\n        \"dtype\": \"number\",\n        \"std\": 25090.46829115669,\n        \"min\": 1.7296025582837145,\n        \"max\": 72658.0,\n        \"num_unique_values\": 8,\n        \"samples\": [\n          2005.3412425335132,\n          2005.0,\n          72658.0\n        ],\n        \"semantic_type\": \"\",\n        \"description\": \"\"\n      }\n    },\n    {\n      \"column\": \"VehicleAge\",\n      \"properties\": {\n        \"dtype\": \"number\",\n        \"std\": 25687.12420916918,\n        \"min\": 0.0,\n        \"max\": 72658.0,\n        \"num_unique_values\": 8,\n        \"samples\": [\n          4.180131575325498,\n          4.0,\n          72658.0\n        ],\n        \"semantic_type\": \"\",\n        \"description\": \"\"\n      }\n    },\n    {\n      \"column\": \"WheelTypeID\",\n      \"properties\": {\n        \"dtype\": \"number\",\n        \"std\": 25688.07286414719,\n        \"min\": -1.0,\n        \"max\": 72658.0,\n        \"num_unique_values\": 7,\n        \"samples\": [\n          72658.0,\n          1.3857937185168874,\n          2.0\n        ],\n        \"semantic_type\": \"\",\n        \"description\": \"\"\n      }\n    },\n    {\n      \"column\": \"VehOdo\",\n      \"properties\": {\n        \"dtype\": \"number\",\n        \"std\": 36166.94913804706,\n        \"min\": 4825.0,\n        \"max\": 115717.0,\n        \"num_unique_values\": 8,\n        \"samples\": [\n          71525.19928982356,\n          73382.0,\n          72658.0\n        ],\n        \"semantic_type\": \"\",\n        \"description\": \"\"\n      }\n    },\n    {\n      \"column\": \"MMRAcquisitionAuctionAveragePrice\",\n      \"properties\": {\n        \"dtype\": \"number\",\n        \"std\": 25164.990653195026,\n        \"min\": 0.0,\n        \"max\": 72658.0,\n        \"num_unique_values\": 8,\n        \"samples\": [\n          6128.83894409425,\n          6098.0,\n          72658.0\n        ],\n        \"semantic_type\": \"\",\n        \"description\": \"\"\n      }\n    },\n    {\n      \"column\": \"MMRAcquisitionAuctionCleanPrice\",\n      \"properties\": {\n        \"dtype\": \"number\",\n        \"std\": 24974.349997953934,\n        \"min\": 0.0,\n        \"max\": 72658.0,\n        \"num_unique_values\": 8,\n        \"samples\": [\n          7374.9004927193155,\n          7305.0,\n          72658.0\n        ],\n        \"semantic_type\": \"\",\n        \"description\": \"\"\n      }\n    },\n    {\n      \"column\": \"MMRAcquisitionRetailAveragePrice\",\n      \"properties\": {\n        \"dtype\": \"number\",\n        \"std\": 24916.744747474237,\n        \"min\": 0.0,\n        \"max\": 72658.0,\n        \"num_unique_values\": 8,\n        \"samples\": [\n          8501.49416444163,\n          8447.0,\n          72658.0\n        ],\n        \"semantic_type\": \"\",\n        \"description\": \"\"\n      }\n    },\n    {\n      \"column\": \"MMRAcquisitonRetailCleanPrice\",\n      \"properties\": {\n        \"dtype\": \"number\",\n        \"std\": 24884.846749352684,\n        \"min\": 0.0,\n        \"max\": 72658.0,\n        \"num_unique_values\": 8,\n        \"samples\": [\n          9856.8618046189,\n          9798.0,\n          72658.0\n        ],\n        \"semantic_type\": \"\",\n        \"description\": \"\"\n      }\n    },\n    {\n      \"column\": \"MMRCurrentAuctionAveragePrice\",\n      \"properties\": {\n        \"dtype\": \"number\",\n        \"std\": 25170.368394087065,\n        \"min\": 0.0,\n        \"max\": 72658.0,\n        \"num_unique_values\": 8,\n        \"samples\": [\n          6132.22962371659,\n          6063.0,\n          72658.0\n        ],\n        \"semantic_type\": \"\",\n        \"description\": \"\"\n      }\n    },\n    {\n      \"column\": \"MMRCurrentAuctionCleanPrice\",\n      \"properties\": {\n        \"dtype\": \"number\",\n        \"std\": 24976.264369533805,\n        \"min\": 0.0,\n        \"max\": 72658.0,\n        \"num_unique_values\": 8,\n        \"samples\": [\n          7390.8512207878,\n          7313.0,\n          72658.0\n        ],\n        \"semantic_type\": \"\",\n        \"description\": \"\"\n      }\n    },\n    {\n      \"column\": \"MMRCurrentRetailAveragePrice\",\n      \"properties\": {\n        \"dtype\": \"number\",\n        \"std\": 24861.512965413196,\n        \"min\": 0.0,\n        \"max\": 72658.0,\n        \"num_unique_values\": 8,\n        \"samples\": [\n          8776.037765972089,\n          8729.0,\n          72658.0\n        ],\n        \"semantic_type\": \"\",\n        \"description\": \"\"\n      }\n    },\n    {\n      \"column\": \"MMRCurrentRetailCleanPrice\",\n      \"properties\": {\n        \"dtype\": \"number\",\n        \"std\": 24777.872996227543,\n        \"min\": 0.0,\n        \"max\": 72658.0,\n        \"num_unique_values\": 8,\n        \"samples\": [\n          10145.731509262572,\n          10103.0,\n          72658.0\n        ],\n        \"semantic_type\": \"\",\n        \"description\": \"\"\n      }\n    },\n    {\n      \"column\": \"VehBCost\",\n      \"properties\": {\n        \"dtype\": \"number\",\n        \"std\": 26303.654993200682,\n        \"min\": 1.0,\n        \"max\": 72658.0,\n        \"num_unique_values\": 8,\n        \"samples\": [\n          6730.807824740565,\n          6700.0,\n          72658.0\n        ],\n        \"semantic_type\": \"\",\n        \"description\": \"\"\n      }\n    },\n    {\n      \"column\": \"IsOnlineSale\",\n      \"properties\": {\n        \"dtype\": \"number\",\n        \"std\": 25688.422522967743,\n        \"min\": 0.0,\n        \"max\": 72658.0,\n        \"num_unique_values\": 5,\n        \"samples\": [\n          0.025379173662913927,\n          1.0,\n          0.15727495555007204\n        ],\n        \"semantic_type\": \"\",\n        \"description\": \"\"\n      }\n    },\n    {\n      \"column\": \"WarrantyCost\",\n      \"properties\": {\n        \"dtype\": \"number\",\n        \"std\": 25114.471149369194,\n        \"min\": 462.0,\n        \"max\": 72658.0,\n        \"num_unique_values\": 8,\n        \"samples\": [\n          1277.07222879793,\n          1169.0,\n          72658.0\n        ],\n        \"semantic_type\": \"\",\n        \"description\": \"\"\n      }\n    }\n  ]\n}",
              "type": "dataframe"
            },
            "text/html": [
              "\n",
              "  <div id=\"df-ba8dbd0a-ebf2-4741-ac4e-ea9f5b7928cf\" class=\"colab-df-container\">\n",
              "    <div>\n",
              "<style scoped>\n",
              "    .dataframe tbody tr th:only-of-type {\n",
              "        vertical-align: middle;\n",
              "    }\n",
              "\n",
              "    .dataframe tbody tr th {\n",
              "        vertical-align: top;\n",
              "    }\n",
              "\n",
              "    .dataframe thead th {\n",
              "        text-align: right;\n",
              "    }\n",
              "</style>\n",
              "<table border=\"1\" class=\"dataframe\">\n",
              "  <thead>\n",
              "    <tr style=\"text-align: right;\">\n",
              "      <th></th>\n",
              "      <th>IsBadBuy</th>\n",
              "      <th>VehYear</th>\n",
              "      <th>VehicleAge</th>\n",
              "      <th>WheelTypeID</th>\n",
              "      <th>VehOdo</th>\n",
              "      <th>MMRAcquisitionAuctionAveragePrice</th>\n",
              "      <th>MMRAcquisitionAuctionCleanPrice</th>\n",
              "      <th>MMRAcquisitionRetailAveragePrice</th>\n",
              "      <th>MMRAcquisitonRetailCleanPrice</th>\n",
              "      <th>MMRCurrentAuctionAveragePrice</th>\n",
              "      <th>MMRCurrentAuctionCleanPrice</th>\n",
              "      <th>MMRCurrentRetailAveragePrice</th>\n",
              "      <th>MMRCurrentRetailCleanPrice</th>\n",
              "      <th>VehBCost</th>\n",
              "      <th>IsOnlineSale</th>\n",
              "      <th>WarrantyCost</th>\n",
              "    </tr>\n",
              "  </thead>\n",
              "  <tbody>\n",
              "    <tr>\n",
              "      <th>count</th>\n",
              "      <td>72658.000000</td>\n",
              "      <td>72658.000000</td>\n",
              "      <td>72658.000000</td>\n",
              "      <td>72658.000000</td>\n",
              "      <td>72658.000000</td>\n",
              "      <td>72658.000000</td>\n",
              "      <td>72658.000000</td>\n",
              "      <td>72658.000000</td>\n",
              "      <td>72658.000000</td>\n",
              "      <td>72658.000000</td>\n",
              "      <td>72658.000000</td>\n",
              "      <td>72658.000000</td>\n",
              "      <td>72658.000000</td>\n",
              "      <td>72658.000000</td>\n",
              "      <td>72658.000000</td>\n",
              "      <td>72658.000000</td>\n",
              "    </tr>\n",
              "    <tr>\n",
              "      <th>mean</th>\n",
              "      <td>0.123083</td>\n",
              "      <td>2005.341243</td>\n",
              "      <td>4.180132</td>\n",
              "      <td>1.385794</td>\n",
              "      <td>71525.199290</td>\n",
              "      <td>6128.838944</td>\n",
              "      <td>7374.900493</td>\n",
              "      <td>8501.494164</td>\n",
              "      <td>9856.861805</td>\n",
              "      <td>6132.229624</td>\n",
              "      <td>7390.851221</td>\n",
              "      <td>8776.037766</td>\n",
              "      <td>10145.731509</td>\n",
              "      <td>6730.807825</td>\n",
              "      <td>0.025379</td>\n",
              "      <td>1277.072229</td>\n",
              "    </tr>\n",
              "    <tr>\n",
              "      <th>std</th>\n",
              "      <td>0.328535</td>\n",
              "      <td>1.729603</td>\n",
              "      <td>1.710427</td>\n",
              "      <td>0.720205</td>\n",
              "      <td>14568.009802</td>\n",
              "      <td>2462.457325</td>\n",
              "      <td>2723.820350</td>\n",
              "      <td>3156.178758</td>\n",
              "      <td>3386.050131</td>\n",
              "      <td>2434.561422</td>\n",
              "      <td>2686.250040</td>\n",
              "      <td>3090.554492</td>\n",
              "      <td>3310.117825</td>\n",
              "      <td>1767.914054</td>\n",
              "      <td>0.157275</td>\n",
              "      <td>599.236636</td>\n",
              "    </tr>\n",
              "    <tr>\n",
              "      <th>min</th>\n",
              "      <td>0.000000</td>\n",
              "      <td>2001.000000</td>\n",
              "      <td>0.000000</td>\n",
              "      <td>-1.000000</td>\n",
              "      <td>4825.000000</td>\n",
              "      <td>0.000000</td>\n",
              "      <td>0.000000</td>\n",
              "      <td>0.000000</td>\n",
              "      <td>0.000000</td>\n",
              "      <td>0.000000</td>\n",
              "      <td>0.000000</td>\n",
              "      <td>0.000000</td>\n",
              "      <td>0.000000</td>\n",
              "      <td>1.000000</td>\n",
              "      <td>0.000000</td>\n",
              "      <td>462.000000</td>\n",
              "    </tr>\n",
              "    <tr>\n",
              "      <th>25%</th>\n",
              "      <td>0.000000</td>\n",
              "      <td>2004.000000</td>\n",
              "      <td>3.000000</td>\n",
              "      <td>1.000000</td>\n",
              "      <td>61874.250000</td>\n",
              "      <td>4273.000000</td>\n",
              "      <td>5409.000000</td>\n",
              "      <td>6288.000000</td>\n",
              "      <td>7501.000000</td>\n",
              "      <td>4275.000000</td>\n",
              "      <td>5415.000000</td>\n",
              "      <td>6537.000000</td>\n",
              "      <td>7784.000000</td>\n",
              "      <td>5435.000000</td>\n",
              "      <td>0.000000</td>\n",
              "      <td>837.000000</td>\n",
              "    </tr>\n",
              "    <tr>\n",
              "      <th>50%</th>\n",
              "      <td>0.000000</td>\n",
              "      <td>2005.000000</td>\n",
              "      <td>4.000000</td>\n",
              "      <td>1.000000</td>\n",
              "      <td>73382.000000</td>\n",
              "      <td>6098.000000</td>\n",
              "      <td>7305.000000</td>\n",
              "      <td>8447.000000</td>\n",
              "      <td>9798.000000</td>\n",
              "      <td>6063.000000</td>\n",
              "      <td>7313.000000</td>\n",
              "      <td>8729.000000</td>\n",
              "      <td>10103.000000</td>\n",
              "      <td>6700.000000</td>\n",
              "      <td>0.000000</td>\n",
              "      <td>1169.000000</td>\n",
              "    </tr>\n",
              "    <tr>\n",
              "      <th>75%</th>\n",
              "      <td>0.000000</td>\n",
              "      <td>2007.000000</td>\n",
              "      <td>5.000000</td>\n",
              "      <td>2.000000</td>\n",
              "      <td>82452.000000</td>\n",
              "      <td>7761.000000</td>\n",
              "      <td>9023.750000</td>\n",
              "      <td>10657.000000</td>\n",
              "      <td>12092.000000</td>\n",
              "      <td>7736.000000</td>\n",
              "      <td>9013.000000</td>\n",
              "      <td>10911.000000</td>\n",
              "      <td>12309.000000</td>\n",
              "      <td>7900.000000</td>\n",
              "      <td>0.000000</td>\n",
              "      <td>1623.000000</td>\n",
              "    </tr>\n",
              "    <tr>\n",
              "      <th>max</th>\n",
              "      <td>1.000000</td>\n",
              "      <td>2010.000000</td>\n",
              "      <td>9.000000</td>\n",
              "      <td>3.000000</td>\n",
              "      <td>115717.000000</td>\n",
              "      <td>35722.000000</td>\n",
              "      <td>36859.000000</td>\n",
              "      <td>39080.000000</td>\n",
              "      <td>41482.000000</td>\n",
              "      <td>35722.000000</td>\n",
              "      <td>36859.000000</td>\n",
              "      <td>39080.000000</td>\n",
              "      <td>41062.000000</td>\n",
              "      <td>45469.000000</td>\n",
              "      <td>1.000000</td>\n",
              "      <td>7498.000000</td>\n",
              "    </tr>\n",
              "  </tbody>\n",
              "</table>\n",
              "</div>\n",
              "    <div class=\"colab-df-buttons\">\n",
              "\n",
              "  <div class=\"colab-df-container\">\n",
              "    <button class=\"colab-df-convert\" onclick=\"convertToInteractive('df-ba8dbd0a-ebf2-4741-ac4e-ea9f5b7928cf')\"\n",
              "            title=\"Convert this dataframe to an interactive table.\"\n",
              "            style=\"display:none;\">\n",
              "\n",
              "  <svg xmlns=\"http://www.w3.org/2000/svg\" height=\"24px\" viewBox=\"0 -960 960 960\">\n",
              "    <path d=\"M120-120v-720h720v720H120Zm60-500h600v-160H180v160Zm220 220h160v-160H400v160Zm0 220h160v-160H400v160ZM180-400h160v-160H180v160Zm440 0h160v-160H620v160ZM180-180h160v-160H180v160Zm440 0h160v-160H620v160Z\"/>\n",
              "  </svg>\n",
              "    </button>\n",
              "\n",
              "  <style>\n",
              "    .colab-df-container {\n",
              "      display:flex;\n",
              "      gap: 12px;\n",
              "    }\n",
              "\n",
              "    .colab-df-convert {\n",
              "      background-color: #E8F0FE;\n",
              "      border: none;\n",
              "      border-radius: 50%;\n",
              "      cursor: pointer;\n",
              "      display: none;\n",
              "      fill: #1967D2;\n",
              "      height: 32px;\n",
              "      padding: 0 0 0 0;\n",
              "      width: 32px;\n",
              "    }\n",
              "\n",
              "    .colab-df-convert:hover {\n",
              "      background-color: #E2EBFA;\n",
              "      box-shadow: 0px 1px 2px rgba(60, 64, 67, 0.3), 0px 1px 3px 1px rgba(60, 64, 67, 0.15);\n",
              "      fill: #174EA6;\n",
              "    }\n",
              "\n",
              "    .colab-df-buttons div {\n",
              "      margin-bottom: 4px;\n",
              "    }\n",
              "\n",
              "    [theme=dark] .colab-df-convert {\n",
              "      background-color: #3B4455;\n",
              "      fill: #D2E3FC;\n",
              "    }\n",
              "\n",
              "    [theme=dark] .colab-df-convert:hover {\n",
              "      background-color: #434B5C;\n",
              "      box-shadow: 0px 1px 3px 1px rgba(0, 0, 0, 0.15);\n",
              "      filter: drop-shadow(0px 1px 2px rgba(0, 0, 0, 0.3));\n",
              "      fill: #FFFFFF;\n",
              "    }\n",
              "  </style>\n",
              "\n",
              "    <script>\n",
              "      const buttonEl =\n",
              "        document.querySelector('#df-ba8dbd0a-ebf2-4741-ac4e-ea9f5b7928cf button.colab-df-convert');\n",
              "      buttonEl.style.display =\n",
              "        google.colab.kernel.accessAllowed ? 'block' : 'none';\n",
              "\n",
              "      async function convertToInteractive(key) {\n",
              "        const element = document.querySelector('#df-ba8dbd0a-ebf2-4741-ac4e-ea9f5b7928cf');\n",
              "        const dataTable =\n",
              "          await google.colab.kernel.invokeFunction('convertToInteractive',\n",
              "                                                    [key], {});\n",
              "        if (!dataTable) return;\n",
              "\n",
              "        const docLinkHtml = 'Like what you see? Visit the ' +\n",
              "          '<a target=\"_blank\" href=https://colab.research.google.com/notebooks/data_table.ipynb>data table notebook</a>'\n",
              "          + ' to learn more about interactive tables.';\n",
              "        element.innerHTML = '';\n",
              "        dataTable['output_type'] = 'display_data';\n",
              "        await google.colab.output.renderOutput(dataTable, element);\n",
              "        const docLink = document.createElement('div');\n",
              "        docLink.innerHTML = docLinkHtml;\n",
              "        element.appendChild(docLink);\n",
              "      }\n",
              "    </script>\n",
              "  </div>\n",
              "\n",
              "\n",
              "<div id=\"df-d22022f6-ad66-49f2-a703-8ec2541b7206\">\n",
              "  <button class=\"colab-df-quickchart\" onclick=\"quickchart('df-d22022f6-ad66-49f2-a703-8ec2541b7206')\"\n",
              "            title=\"Suggest charts\"\n",
              "            style=\"display:none;\">\n",
              "\n",
              "<svg xmlns=\"http://www.w3.org/2000/svg\" height=\"24px\"viewBox=\"0 0 24 24\"\n",
              "     width=\"24px\">\n",
              "    <g>\n",
              "        <path d=\"M19 3H5c-1.1 0-2 .9-2 2v14c0 1.1.9 2 2 2h14c1.1 0 2-.9 2-2V5c0-1.1-.9-2-2-2zM9 17H7v-7h2v7zm4 0h-2V7h2v10zm4 0h-2v-4h2v4z\"/>\n",
              "    </g>\n",
              "</svg>\n",
              "  </button>\n",
              "\n",
              "<style>\n",
              "  .colab-df-quickchart {\n",
              "      --bg-color: #E8F0FE;\n",
              "      --fill-color: #1967D2;\n",
              "      --hover-bg-color: #E2EBFA;\n",
              "      --hover-fill-color: #174EA6;\n",
              "      --disabled-fill-color: #AAA;\n",
              "      --disabled-bg-color: #DDD;\n",
              "  }\n",
              "\n",
              "  [theme=dark] .colab-df-quickchart {\n",
              "      --bg-color: #3B4455;\n",
              "      --fill-color: #D2E3FC;\n",
              "      --hover-bg-color: #434B5C;\n",
              "      --hover-fill-color: #FFFFFF;\n",
              "      --disabled-bg-color: #3B4455;\n",
              "      --disabled-fill-color: #666;\n",
              "  }\n",
              "\n",
              "  .colab-df-quickchart {\n",
              "    background-color: var(--bg-color);\n",
              "    border: none;\n",
              "    border-radius: 50%;\n",
              "    cursor: pointer;\n",
              "    display: none;\n",
              "    fill: var(--fill-color);\n",
              "    height: 32px;\n",
              "    padding: 0;\n",
              "    width: 32px;\n",
              "  }\n",
              "\n",
              "  .colab-df-quickchart:hover {\n",
              "    background-color: var(--hover-bg-color);\n",
              "    box-shadow: 0 1px 2px rgba(60, 64, 67, 0.3), 0 1px 3px 1px rgba(60, 64, 67, 0.15);\n",
              "    fill: var(--button-hover-fill-color);\n",
              "  }\n",
              "\n",
              "  .colab-df-quickchart-complete:disabled,\n",
              "  .colab-df-quickchart-complete:disabled:hover {\n",
              "    background-color: var(--disabled-bg-color);\n",
              "    fill: var(--disabled-fill-color);\n",
              "    box-shadow: none;\n",
              "  }\n",
              "\n",
              "  .colab-df-spinner {\n",
              "    border: 2px solid var(--fill-color);\n",
              "    border-color: transparent;\n",
              "    border-bottom-color: var(--fill-color);\n",
              "    animation:\n",
              "      spin 1s steps(1) infinite;\n",
              "  }\n",
              "\n",
              "  @keyframes spin {\n",
              "    0% {\n",
              "      border-color: transparent;\n",
              "      border-bottom-color: var(--fill-color);\n",
              "      border-left-color: var(--fill-color);\n",
              "    }\n",
              "    20% {\n",
              "      border-color: transparent;\n",
              "      border-left-color: var(--fill-color);\n",
              "      border-top-color: var(--fill-color);\n",
              "    }\n",
              "    30% {\n",
              "      border-color: transparent;\n",
              "      border-left-color: var(--fill-color);\n",
              "      border-top-color: var(--fill-color);\n",
              "      border-right-color: var(--fill-color);\n",
              "    }\n",
              "    40% {\n",
              "      border-color: transparent;\n",
              "      border-right-color: var(--fill-color);\n",
              "      border-top-color: var(--fill-color);\n",
              "    }\n",
              "    60% {\n",
              "      border-color: transparent;\n",
              "      border-right-color: var(--fill-color);\n",
              "    }\n",
              "    80% {\n",
              "      border-color: transparent;\n",
              "      border-right-color: var(--fill-color);\n",
              "      border-bottom-color: var(--fill-color);\n",
              "    }\n",
              "    90% {\n",
              "      border-color: transparent;\n",
              "      border-bottom-color: var(--fill-color);\n",
              "    }\n",
              "  }\n",
              "</style>\n",
              "\n",
              "  <script>\n",
              "    async function quickchart(key) {\n",
              "      const quickchartButtonEl =\n",
              "        document.querySelector('#' + key + ' button');\n",
              "      quickchartButtonEl.disabled = true;  // To prevent multiple clicks.\n",
              "      quickchartButtonEl.classList.add('colab-df-spinner');\n",
              "      try {\n",
              "        const charts = await google.colab.kernel.invokeFunction(\n",
              "            'suggestCharts', [key], {});\n",
              "      } catch (error) {\n",
              "        console.error('Error during call to suggestCharts:', error);\n",
              "      }\n",
              "      quickchartButtonEl.classList.remove('colab-df-spinner');\n",
              "      quickchartButtonEl.classList.add('colab-df-quickchart-complete');\n",
              "    }\n",
              "    (() => {\n",
              "      let quickchartButtonEl =\n",
              "        document.querySelector('#df-d22022f6-ad66-49f2-a703-8ec2541b7206 button');\n",
              "      quickchartButtonEl.style.display =\n",
              "        google.colab.kernel.accessAllowed ? 'block' : 'none';\n",
              "    })();\n",
              "  </script>\n",
              "</div>\n",
              "    </div>\n",
              "  </div>\n"
            ],
            "text/plain": [
              "           IsBadBuy       VehYear    VehicleAge   WheelTypeID         VehOdo  \\\n",
              "count  72658.000000  72658.000000  72658.000000  72658.000000   72658.000000   \n",
              "mean       0.123083   2005.341243      4.180132      1.385794   71525.199290   \n",
              "std        0.328535      1.729603      1.710427      0.720205   14568.009802   \n",
              "min        0.000000   2001.000000      0.000000     -1.000000    4825.000000   \n",
              "25%        0.000000   2004.000000      3.000000      1.000000   61874.250000   \n",
              "50%        0.000000   2005.000000      4.000000      1.000000   73382.000000   \n",
              "75%        0.000000   2007.000000      5.000000      2.000000   82452.000000   \n",
              "max        1.000000   2010.000000      9.000000      3.000000  115717.000000   \n",
              "\n",
              "       MMRAcquisitionAuctionAveragePrice  MMRAcquisitionAuctionCleanPrice  \\\n",
              "count                       72658.000000                     72658.000000   \n",
              "mean                         6128.838944                      7374.900493   \n",
              "std                          2462.457325                      2723.820350   \n",
              "min                             0.000000                         0.000000   \n",
              "25%                          4273.000000                      5409.000000   \n",
              "50%                          6098.000000                      7305.000000   \n",
              "75%                          7761.000000                      9023.750000   \n",
              "max                         35722.000000                     36859.000000   \n",
              "\n",
              "       MMRAcquisitionRetailAveragePrice  MMRAcquisitonRetailCleanPrice  \\\n",
              "count                      72658.000000                   72658.000000   \n",
              "mean                        8501.494164                    9856.861805   \n",
              "std                         3156.178758                    3386.050131   \n",
              "min                            0.000000                       0.000000   \n",
              "25%                         6288.000000                    7501.000000   \n",
              "50%                         8447.000000                    9798.000000   \n",
              "75%                        10657.000000                   12092.000000   \n",
              "max                        39080.000000                   41482.000000   \n",
              "\n",
              "       MMRCurrentAuctionAveragePrice  MMRCurrentAuctionCleanPrice  \\\n",
              "count                   72658.000000                 72658.000000   \n",
              "mean                     6132.229624                  7390.851221   \n",
              "std                      2434.561422                  2686.250040   \n",
              "min                         0.000000                     0.000000   \n",
              "25%                      4275.000000                  5415.000000   \n",
              "50%                      6063.000000                  7313.000000   \n",
              "75%                      7736.000000                  9013.000000   \n",
              "max                     35722.000000                 36859.000000   \n",
              "\n",
              "       MMRCurrentRetailAveragePrice  MMRCurrentRetailCleanPrice      VehBCost  \\\n",
              "count                  72658.000000                72658.000000  72658.000000   \n",
              "mean                    8776.037766                10145.731509   6730.807825   \n",
              "std                     3090.554492                 3310.117825   1767.914054   \n",
              "min                        0.000000                    0.000000      1.000000   \n",
              "25%                     6537.000000                 7784.000000   5435.000000   \n",
              "50%                     8729.000000                10103.000000   6700.000000   \n",
              "75%                    10911.000000                12309.000000   7900.000000   \n",
              "max                    39080.000000                41062.000000  45469.000000   \n",
              "\n",
              "       IsOnlineSale  WarrantyCost  \n",
              "count  72658.000000  72658.000000  \n",
              "mean       0.025379   1277.072229  \n",
              "std        0.157275    599.236636  \n",
              "min        0.000000    462.000000  \n",
              "25%        0.000000    837.000000  \n",
              "50%        0.000000   1169.000000  \n",
              "75%        0.000000   1623.000000  \n",
              "max        1.000000   7498.000000  "
            ]
          },
          "execution_count": 43,
          "metadata": {},
          "output_type": "execute_result"
        }
      ],
      "source": [
        "df_prepared.describe()"
      ]
    },
    {
      "cell_type": "code",
      "execution_count": 44,
      "metadata": {
        "id": "rLjSIlyUEYR8"
      },
      "outputs": [],
      "source": [
        "minmax = MinMaxScaler()\n",
        "cols_for_minmax = ['VehOdo',\n",
        "                    'MMRAcquisitionAuctionAveragePrice',\n",
        "                    'MMRAcquisitionAuctionCleanPrice',\n",
        "                    'MMRAcquisitionRetailAveragePrice',\n",
        "                    'MMRAcquisitonRetailCleanPrice',\n",
        "                    'MMRCurrentAuctionAveragePrice',\n",
        "                    'MMRCurrentAuctionCleanPrice',\n",
        "                    'MMRCurrentRetailAveragePrice',\n",
        "                    'MMRCurrentRetailCleanPrice',\n",
        "                    'VehBCost',\n",
        "                    'WarrantyCost']\n",
        "X_train[cols_for_minmax] = minmax.fit_transform(X_train[cols_for_minmax])\n",
        "\n",
        "X_val[cols_for_minmax] = minmax.transform(X_val[cols_for_minmax])\n",
        "X_test[cols_for_minmax] = minmax.transform(X_test[cols_for_minmax])\n"
      ]
    },
    {
      "cell_type": "code",
      "execution_count": 45,
      "metadata": {
        "colab": {
          "base_uri": "https://localhost:8080/"
        },
        "id": "n47ja25iIg6g",
        "outputId": "6ee27890-a3ec-48b2-cc6b-58be297a6b50"
      },
      "outputs": [
        {
          "name": "stderr",
          "output_type": "stream",
          "text": [
            "/usr/local/lib/python3.10/dist-packages/sklearn/linear_model/_logistic.py:458: ConvergenceWarning: lbfgs failed to converge (status=1):\n",
            "STOP: TOTAL NO. of ITERATIONS REACHED LIMIT.\n",
            "\n",
            "Increase the number of iterations (max_iter) or scale the data as shown in:\n",
            "    https://scikit-learn.org/stable/modules/preprocessing.html\n",
            "Please also refer to the documentation for alternative solver options:\n",
            "    https://scikit-learn.org/stable/modules/linear_model.html#logistic-regression\n",
            "  n_iter_i = _check_optimize_result(\n"
          ]
        },
        {
          "name": "stdout",
          "output_type": "stream",
          "text": [
            "CPU times: user 13.2 s, sys: 2.26 s, total: 15.4 s\n",
            "Wall time: 10.8 s\n"
          ]
        },
        {
          "data": {
            "text/plain": [
              "0.4673323431788501"
            ]
          },
          "execution_count": 45,
          "metadata": {},
          "output_type": "execute_result"
        }
      ],
      "source": [
        "%%time\n",
        "logreg = LogisticRegression()\n",
        "logreg.fit(X_train, y_train)\n",
        "\n",
        "lr_predictions = logreg.predict_proba(X_val)[:, 1]\n",
        "lr_gini_score = 2 * roc_auc_score(y_val, lr_predictions) - 1\n",
        "lr_gini_score"
      ]
    },
    {
      "cell_type": "code",
      "execution_count": 46,
      "metadata": {
        "colab": {
          "base_uri": "https://localhost:8080/"
        },
        "id": "KZKkKh5UNoY4",
        "outputId": "9efcde1d-a184-4f4b-ad38-85f4b27bcd33"
      },
      "outputs": [
        {
          "name": "stdout",
          "output_type": "stream",
          "text": [
            "CPU times: user 1.4 s, sys: 1.39 s, total: 2.79 s\n",
            "Wall time: 2.72 s\n"
          ]
        },
        {
          "data": {
            "text/plain": [
              "0.06498356195479849"
            ]
          },
          "execution_count": 46,
          "metadata": {},
          "output_type": "execute_result"
        }
      ],
      "source": [
        "%%time\n",
        "gnb = GaussianNB()\n",
        "gnb.fit(X_train, y_train)\n",
        "gnb_predictions = gnb.predict_proba(X_val)[:, 1]\n",
        "gnb_gini_score = 2 * roc_auc_score(y_val, gnb_predictions) - 1\n",
        "gnb_gini_score"
      ]
    },
    {
      "cell_type": "code",
      "execution_count": 47,
      "metadata": {
        "colab": {
          "base_uri": "https://localhost:8080/"
        },
        "id": "leuNX7qJd2cV",
        "outputId": "deb0d1b1-637e-4ef5-c7ad-077ea5839eaf"
      },
      "outputs": [
        {
          "name": "stdout",
          "output_type": "stream",
          "text": [
            "CPU times: user 2min 14s, sys: 735 ms, total: 2min 15s\n",
            "Wall time: 1min 23s\n"
          ]
        },
        {
          "data": {
            "text/plain": [
              "0.3476430514092421"
            ]
          },
          "execution_count": 47,
          "metadata": {},
          "output_type": "execute_result"
        }
      ],
      "source": [
        "%%time\n",
        "knn = KNeighborsClassifier()\n",
        "knn.fit(X_train, y_train)\n",
        "knn_predictions = knn.predict_proba(X_val)[:, 1]\n",
        "knn_gini_score = 2 * roc_auc_score(y_val, knn_predictions) - 1\n",
        "knn_gini_score"
      ]
    },
    {
      "cell_type": "markdown",
      "metadata": {
        "id": "dI0uY1LMg6us"
      },
      "source": [
        "Самый высокий джини у логистической регрессии"
      ]
    },
    {
      "cell_type": "markdown",
      "metadata": {
        "id": "-CQUHYYqhF0X"
      },
      "source": [
        "# 5. Implement Gini score calculation.\n",
        "You can use 2*ROC AUC - 1 approach, so you need to implement ROC AUC calculation. Check if your metric approximately equals abs(2\\*sklearn.metrcs.roc_auc_score - 1)."
      ]
    },
    {
      "cell_type": "code",
      "execution_count": 48,
      "metadata": {
        "colab": {
          "base_uri": "https://localhost:8080/"
        },
        "id": "HKcpyW6vdWA4",
        "outputId": "cba6cc68-930e-4918-a5af-7c295acf2c42"
      },
      "outputs": [
        {
          "name": "stdout",
          "output_type": "stream",
          "text": [
            "Custom  ROC AUC: 0.7336661715894249\n",
            "Sklearn ROC AUC: 0.733666171589425\n"
          ]
        }
      ],
      "source": [
        "def calculate_roc_auc(y_true, y_pred):\n",
        "    sorted_indices = np.argsort(y_pred)[::-1]\n",
        "    y_true_sorted = y_true[sorted_indices]\n",
        "    tpr = []\n",
        "    fpr = []\n",
        "    n_positive = np.sum(y_true)\n",
        "    n_negative = len(y_true) - n_positive\n",
        "\n",
        "    tp = 0\n",
        "    fp = 0\n",
        "    for i in range(len(y_true_sorted)):\n",
        "        if y_true_sorted[i] == 1:\n",
        "            tp += 1\n",
        "        else:\n",
        "            fp += 1\n",
        "        tpr.append(tp / n_positive)\n",
        "        fpr.append(fp / n_negative)\n",
        "\n",
        "    auc = np.trapz(tpr, fpr)\n",
        "\n",
        "    return auc\n",
        "\n",
        "\n",
        "\n",
        "auc_custom = calculate_roc_auc(y_val.to_numpy(), lr_predictions)\n",
        "auc_sklearn = roc_auc_score(y_val.to_numpy(), lr_predictions)\n",
        "\n",
        "print(\"Custom  ROC AUC:\", auc_custom)\n",
        "print(\"Sklearn ROC AUC:\", auc_sklearn)"
      ]
    },
    {
      "cell_type": "code",
      "execution_count": 56,
      "metadata": {
        "id": "EKZtqN9-fEsY"
      },
      "outputs": [],
      "source": [
        "def gini_score(y_true, y_pred):\n",
        "    return 2 * calculate_roc_auc(y_true, y_pred) - 1"
      ]
    },
    {
      "cell_type": "code",
      "execution_count": 57,
      "metadata": {
        "colab": {
          "base_uri": "https://localhost:8080/"
        },
        "id": "Cuja27nnfc5Z",
        "outputId": "2b163bc6-2556-4348-bf1b-9d8025b12523"
      },
      "outputs": [
        {
          "data": {
            "text/plain": [
              "0.46733234317884986"
            ]
          },
          "execution_count": 57,
          "metadata": {},
          "output_type": "execute_result"
        }
      ],
      "source": [
        "gini_score(y_val.to_numpy(), lr_predictions)"
      ]
    },
    {
      "cell_type": "code",
      "execution_count": 51,
      "metadata": {
        "colab": {
          "base_uri": "https://localhost:8080/"
        },
        "id": "-DpQUadSfvKC",
        "outputId": "47c201fc-8dbd-4794-87de-f6341a7f49f2"
      },
      "outputs": [
        {
          "data": {
            "text/plain": [
              "0.4673323431788501"
            ]
          },
          "execution_count": 51,
          "metadata": {},
          "output_type": "execute_result"
        }
      ],
      "source": [
        "abs(2*roc_auc_score(y_val.to_numpy(), lr_predictions) - 1)"
      ]
    },
    {
      "cell_type": "markdown",
      "metadata": {
        "id": "ggfurP6BdXFH"
      },
      "source": [
        "# 6. Implement your own versions of LogisticRegression, KNN and NaiveBayes classifiers.\n",
        "For LogisticRegression compute gradients with respect to the loss and use stochastic gradient descent.\n",
        "Are you able to reproduce results from step 4?\n",
        "Guide for this task:\n",
        "Your model must be represented by class with fit, predict (predict_proba with 0.5 threshold), predict_proba methods.\n",
        "For LR moder compute gradient of loss with respect to parameters w and parameter b in fit function. Use a simple SGD approach for estimating optimal values of parameters."
      ]
    },
    {
      "cell_type": "markdown",
      "metadata": {},
      "source": [
        "**Предсказания:**  \n",
        "$$\n",
        "y_{pred}(x, w) = \\frac{1}{1 + e^{-\\langle x, w \\rangle}}\n",
        "$$\n",
        "\n",
        "**Лосс (LogLoss):**  \n",
        "$$\n",
        "L(w) = -y\\, log\\,y_{pred} - (1-y)\\,log\\,(1-y_{pred})\n",
        "$$\n",
        "\n",
        "**Градиент:**  \n",
        "$$\n",
        "\\frac{\\partial{L}}{\\partial{w}}\n",
        "= \\left(-\\frac{y}{y_{pred}} + \\frac{1-y}{1-y_{pred}}\\right)\\frac{\\partial{y_{pred}}}{\\partial{w}}\n",
        "$$\n",
        "\n",
        "$$\n",
        "\\frac{\\partial{y_{pred}}}{\\partial{w}} = \\frac{1}{(1+e^{-\\langle x, w \\rangle})^2} e^{-\\langle x, w \\rangle} (-x) = -y_{pred}(1-y_{pred})x\n",
        "$$\n",
        "\n",
        "$$\n",
        "\\frac{\\partial{L}}{\\partial{w}} = (y_{pred} - y) x\n",
        "$$"
      ]
    },
    {
      "cell_type": "code",
      "execution_count": 52,
      "metadata": {
        "id": "fIGGZ4w1iQYm"
      },
      "outputs": [],
      "source": [
        "class MyLogisticRegression():\n",
        "    def __init__(self, learning_rate=0.001, num_iter=100):\n",
        "        self.learning_rate = learning_rate\n",
        "        self.num_iter = num_iter\n",
        "\n",
        "    def fit(self, X, y):\n",
        "        self.w = np.zeros(X.shape[1])\n",
        "        self.b = 0\n",
        "\n",
        "        for _ in range(self.num_iter):\n",
        "            z = np.dot(X, self.w) + self.b\n",
        "            y_pred = self.sigmoid(z)\n",
        "            gradient_w = (1 / X.shape[0]) * np.dot(X.T, (y_pred - y))\n",
        "            gradient_b = (1 / X.shape[0]) * np.sum(y_pred - y)\n",
        "\n",
        "            self.w -= self.learning_rate * gradient_w\n",
        "            self.b -= self.learning_rate * gradient_b\n",
        "\n",
        "    def predict_proba(self, X):\n",
        "        z = np.dot(X, self.w) + self.b\n",
        "        return self.sigmoid(z)\n",
        "\n",
        "    def predict(self, X):\n",
        "        return self.predict_proba(X) > 0.5\n",
        "\n",
        "    def sigmoid(self, z):\n",
        "        return 1 / (1 + np.exp(-z))\n"
      ]
    },
    {
      "cell_type": "code",
      "execution_count": 53,
      "metadata": {
        "colab": {
          "base_uri": "https://localhost:8080/"
        },
        "id": "76jCfoickE5Z",
        "outputId": "c3e41129-97a9-4d1f-b6f3-0be844cf76b8"
      },
      "outputs": [
        {
          "name": "stderr",
          "output_type": "stream",
          "text": [
            "<ipython-input-52-4ed33912f808>:27: RuntimeWarning: overflow encountered in exp\n",
            "  return 1 / (1 + np.exp(-z))\n"
          ]
        },
        {
          "name": "stdout",
          "output_type": "stream",
          "text": [
            "CPU times: user 28.9 s, sys: 43.1 s, total: 1min 12s\n",
            "Wall time: 49.5 s\n"
          ]
        },
        {
          "data": {
            "text/plain": [
              "0.308373205203476"
            ]
          },
          "execution_count": 53,
          "metadata": {},
          "output_type": "execute_result"
        }
      ],
      "source": [
        "%%time\n",
        "my_logreg = MyLogisticRegression()\n",
        "my_logreg.fit(X_train, y_train)\n",
        "\n",
        "my_lr_predictions = my_logreg.predict_proba(X_val)\n",
        "gini_score(y_val.to_numpy(), my_lr_predictions)"
      ]
    },
    {
      "cell_type": "code",
      "execution_count": 60,
      "metadata": {
        "id": "6uQQYwiWQMdI"
      },
      "outputs": [],
      "source": [
        "from scipy.spatial import KDTree\n",
        "\n",
        "class MyKNeighborsClassifier:\n",
        "    def __init__(self, n_neighbors=3):\n",
        "        self.n_neighbors = n_neighbors\n",
        "        self.X_train = None\n",
        "        self.y_train = None\n",
        "        self.kdtree = None\n",
        "\n",
        "    def fit(self, X_train, y_train):\n",
        "        self.X_train = X_train\n",
        "        self.y_train = y_train\n",
        "        self.kdtree = KDTree(X_train)\n",
        "\n",
        "    def predict(self, X_test):\n",
        "        _, indices = self.kdtree.query(X_test, k=self.n_neighbors)\n",
        "        y_pred = np.apply_along_axis(lambda x: np.argmax(np.bincount(x)), axis=1, arr=self.y_train[indices])\n",
        "        return y_pred\n",
        "\n",
        "    def predict_proba(self, X_test):\n",
        "        _, indices = self.kdtree.query(X_test, k=self.n_neighbors)\n",
        "        y_pred_proba = np.apply_along_axis(lambda x: np.bincount(x, minlength=len(np.unique(self.y_train))) / self.n_neighbors, axis=1, arr=self.y_train[indices])\n",
        "        return y_pred_proba"
      ]
    },
    {
      "cell_type": "code",
      "execution_count": 61,
      "metadata": {
        "colab": {
          "base_uri": "https://localhost:8080/"
        },
        "id": "Mc78bSRmF9ij",
        "outputId": "ffdc3f9a-e170-4ed8-b596-6723ae8a1b17"
      },
      "outputs": [
        {
          "data": {
            "text/plain": [
              "0.18907557460683533"
            ]
          },
          "execution_count": 61,
          "metadata": {},
          "output_type": "execute_result"
        }
      ],
      "source": [
        "%%time\n",
        "my_knn = MyKNeighborsClassifier()\n",
        "my_knn.fit(X_train.to_numpy(), y_train.to_numpy())\n",
        "my_knn_predictions = my_knn.predict(X_val.to_numpy())\n",
        "gini_score(y_val.to_numpy(), my_knn_predictions)"
      ]
    },
    {
      "cell_type": "code",
      "execution_count": 79,
      "metadata": {
        "id": "9eqx8fejV1yZ"
      },
      "outputs": [],
      "source": [
        "class MyNaiveBayesClassifier:\n",
        "    def __init__(self):\n",
        "        self.class_probabilities = None\n",
        "        self.feature_probabilities = None\n",
        "        self.uniq_classes = None\n",
        "\n",
        "    def fit(self, X, y):\n",
        "        self.uniq_classes = np.unique(y)\n",
        "        num_classes = X.shape[0]\n",
        "        num_features = X.shape[1]\n",
        "\n",
        "        self.class_probabilities = np.zeros(num_classes)\n",
        "        self.feature_probabilities = np.zeros((num_classes, num_features))\n",
        "\n",
        "        for i, c in enumerate(self.uniq_classes):\n",
        "            X_c = X[y == c]\n",
        "            self.class_probabilities[i] = X_c.shape[0] / num_classes\n",
        "            self.feature_probabilities[i] = np.mean(X_c, axis=0)\n",
        "\n",
        "    def predict_proba(self, X):\n",
        "        num_samples = X.shape[0]\n",
        "        count_classes = len(self.uniq_classes)\n",
        "\n",
        "        predictions = np.zeros((num_samples, count_classes))\n",
        "\n",
        "        for i in range(count_classes):\n",
        "            class_probability = self.class_probabilities[i]\n",
        "            feature_probability = self.feature_probabilities[i]\n",
        "            predictions[:, i] = np.prod(X * feature_probability + (1 - X) * (1 - feature_probability), axis=1) * class_probability\n",
        "\n",
        "        return predictions / np.sum(predictions, axis=1, keepdims=True)\n",
        "\n",
        "    def predict(self, X):\n",
        "        probabilities = self.predict_proba(X)\n",
        "        return np.argmax(probabilities, axis=1)"
      ]
    },
    {
      "cell_type": "code",
      "execution_count": 80,
      "metadata": {
        "colab": {
          "base_uri": "https://localhost:8080/"
        },
        "id": "vXstlMWXWCrK",
        "outputId": "15402e80-dc2e-41fc-8151-971abc34456f"
      },
      "outputs": [
        {
          "name": "stdout",
          "output_type": "stream",
          "text": [
            "CPU times: user 642 ms, sys: 499 ms, total: 1.14 s\n",
            "Wall time: 1.6 s\n"
          ]
        },
        {
          "data": {
            "text/plain": [
              "0.2008982122055123"
            ]
          },
          "execution_count": 80,
          "metadata": {},
          "output_type": "execute_result"
        }
      ],
      "source": [
        "%%time\n",
        "my_nb = MyNaiveBayesClassifier()\n",
        "my_nb.fit(X_train.to_numpy(), y_train.to_numpy())\n",
        "my_nb_predictions = my_nb.predict(X_val.to_numpy())\n",
        "my_nb_gini_score = 2 * roc_auc_score(y_val.to_numpy(), my_nb_predictions) - 1\n",
        "my_nb_gini_score"
      ]
    },
    {
      "cell_type": "markdown",
      "metadata": {
        "id": "EaobkP_pRcRA"
      },
      "source": [
        "# 7. Try to create non-linear features,\n",
        "for example:\n",
        "\n",
        "fractions: feature1/feature2\n",
        "groupby features: df[‘categorical_feature’].map(df.groupby(‘categorical_feature’)[‘continious_feature’].mean())\n",
        "\n",
        "Add new features into your pipeline, repeat step 4. Did you manage to increase your Gini score (you should!)?"
      ]
    },
    {
      "cell_type": "code",
      "execution_count": 132,
      "metadata": {
        "id": "IXBKKcOxsHmx"
      },
      "outputs": [],
      "source": [
        "X_train_nl = X_train.copy()\n",
        "X_val_nl = X_val.copy()\n",
        "X_test_nl = X_test.copy()"
      ]
    },
    {
      "cell_type": "code",
      "execution_count": 190,
      "metadata": {
        "id": "NoBWIUgBhu1b"
      },
      "outputs": [],
      "source": [
        "X_train_nl['fraction_feature'] = pd.DataFrame(train['MMRCurrentRetailAveragePrice'] / train['WarrantyCost']).iloc[:,0].values\n",
        "X_train_nl['fraction_feature2'] = pd.DataFrame(train['Color'].astype('category').cat.codes / train['WarrantyCost']).iloc[:,0].values\n",
        "X_train_nl['grouped_mean'] = pd.DataFrame(train['Auction'] \\\n",
        "                                          .map(train.groupby('Auction')['VehicleAge'] \\\n",
        "                                               .mean())).iloc[:,0].values\n",
        "X_train_nl['grouped_mean2'] = pd.DataFrame(train['Color'] \\\n",
        "                                          .map(train.groupby('Color')['VehYear'] \\\n",
        "                                               .mean())).iloc[:,0].values\n"
      ]
    },
    {
      "cell_type": "code",
      "execution_count": 191,
      "metadata": {
        "id": "kTOiYXWCofRH"
      },
      "outputs": [],
      "source": [
        "X_val_nl['fraction_feature'] = pd.DataFrame(val['MMRCurrentRetailAveragePrice'] / val['WarrantyCost']).iloc[:,0].values\n",
        "X_val_nl['fraction_feature2'] = pd.DataFrame(val['Color'].cat.codes / val['WarrantyCost']).iloc[:,0].values\n",
        "X_val_nl['grouped_mean'] = pd.DataFrame(val['Auction'] \\\n",
        "                                          .map(val.groupby('Auction')['VehicleAge'] \\\n",
        "                                               .mean())).iloc[:,0].values\n",
        "X_val_nl['grouped_mean2'] = pd.DataFrame(val['Color'] \\\n",
        "                                          .map(val.groupby('Color')['VehYear'] \\\n",
        "                                               .mean())).iloc[:,0].values"
      ]
    },
    {
      "cell_type": "code",
      "execution_count": 192,
      "metadata": {
        "id": "Jn4P8u6_kLkP"
      },
      "outputs": [],
      "source": [
        "minmax = MinMaxScaler()\n",
        "cols_for_minmax = ['fraction_feature',\n",
        "                   'fraction_feature2',\n",
        "                   'grouped_mean',\n",
        "                   'grouped_mean2']\n",
        "X_train_nl[cols_for_minmax] = minmax.fit_transform(X_train_nl[cols_for_minmax])\n",
        "\n",
        "X_val_nl[cols_for_minmax] = minmax.transform(X_val_nl[cols_for_minmax])\n",
        "# X_test[cols_for_minmax] = minmax.transform(X_test[cols_for_minmax])"
      ]
    },
    {
      "cell_type": "code",
      "execution_count": 193,
      "metadata": {
        "colab": {
          "base_uri": "https://localhost:8080/"
        },
        "id": "Z8RpxT39jeb1",
        "outputId": "c0ef8d9f-3f17-4627-b6f4-749766a5ef0e"
      },
      "outputs": [
        {
          "name": "stderr",
          "output_type": "stream",
          "text": [
            "/usr/local/lib/python3.10/dist-packages/sklearn/linear_model/_logistic.py:458: ConvergenceWarning: lbfgs failed to converge (status=1):\n",
            "STOP: TOTAL NO. of ITERATIONS REACHED LIMIT.\n",
            "\n",
            "Increase the number of iterations (max_iter) or scale the data as shown in:\n",
            "    https://scikit-learn.org/stable/modules/preprocessing.html\n",
            "Please also refer to the documentation for alternative solver options:\n",
            "    https://scikit-learn.org/stable/modules/linear_model.html#logistic-regression\n",
            "  n_iter_i = _check_optimize_result(\n"
          ]
        },
        {
          "name": "stdout",
          "output_type": "stream",
          "text": [
            "new: 0.47394948186121333 \n",
            "old: 0.4673323431788501\n",
            "CPU times: user 15.7 s, sys: 1.54 s, total: 17.3 s\n",
            "Wall time: 9.78 s\n"
          ]
        }
      ],
      "source": [
        "%%time\n",
        "logreg_nl = LogisticRegression()\n",
        "logreg_nl.fit(X_train_nl, y_train)\n",
        "lr_nl_predictions = logreg_nl.predict_proba(X_val_nl)[:, 1]\n",
        "\n",
        "print(f\"new: {(2 * roc_auc_score(y_val, lr_nl_predictions) - 1)} \\nold: {lr_gini_score}\")"
      ]
    },
    {
      "cell_type": "code",
      "execution_count": 195,
      "metadata": {
        "colab": {
          "base_uri": "https://localhost:8080/"
        },
        "id": "mIQ5eXIItV_o",
        "outputId": "85f47534-6560-4764-aea2-8a9317259959"
      },
      "outputs": [
        {
          "name": "stdout",
          "output_type": "stream",
          "text": [
            "new: 0.06498356195479849 \n",
            "old: 0.06498356195479849\n",
            "CPU times: user 1.23 s, sys: 749 ms, total: 1.98 s\n",
            "Wall time: 2.01 s\n"
          ]
        }
      ],
      "source": [
        "%%time\n",
        "gnb_nl = GaussianNB()\n",
        "gnb_nl.fit(X_train_nl, y_train)\n",
        "gnb_nl_predictions = gnb_nl.predict_proba(X_val_nl)[:, 1]\n",
        "\n",
        "print(f\"new: {(2 * roc_auc_score(y_val, gnb_nl_predictions) - 1)} \\nold: {gnb_gini_score}\")"
      ]
    },
    {
      "cell_type": "code",
      "execution_count": 194,
      "metadata": {
        "colab": {
          "base_uri": "https://localhost:8080/"
        },
        "id": "0IybOmZAxibB",
        "outputId": "c4b40e8a-3afd-4f4e-9fce-bf8e0000fa8c"
      },
      "outputs": [
        {
          "name": "stdout",
          "output_type": "stream",
          "text": [
            "new: 0.3531454804727385 \n",
            "old: 0.3476430514092421\n",
            "CPU times: user 2min 18s, sys: 472 ms, total: 2min 18s\n",
            "Wall time: 1min 25s\n"
          ]
        }
      ],
      "source": [
        "%%time\n",
        "knn_nl = KNeighborsClassifier()\n",
        "knn_nl.fit(X_train_nl, y_train)\n",
        "knn_nl_predictions = knn_nl.predict_proba(X_val_nl)[:, 1]\n",
        "\n",
        "print(f\"new: {(2 * roc_auc_score(y_val, knn_nl_predictions) - 1)} \\nold: {knn_gini_score}\")"
      ]
    },
    {
      "cell_type": "markdown",
      "metadata": {
        "id": "nrpP_uttTDY1"
      },
      "source": [
        "# 8. Detect the best features for the problem using coefficients of the Logistic model.\n",
        "Try to eliminate useless features by hand and by using L1 regularization. Which approach is better in terms of Gini score?"
      ]
    },
    {
      "cell_type": "code",
      "execution_count": 196,
      "metadata": {
        "colab": {
          "base_uri": "https://localhost:8080/"
        },
        "id": "1FAGCvrtUOXi",
        "outputId": "baa5ae42-dd23-401d-bfde-fc6124343c59"
      },
      "outputs": [
        {
          "name": "stderr",
          "output_type": "stream",
          "text": [
            "/usr/local/lib/python3.10/dist-packages/sklearn/linear_model/_logistic.py:458: ConvergenceWarning: lbfgs failed to converge (status=1):\n",
            "STOP: TOTAL NO. of ITERATIONS REACHED LIMIT.\n",
            "\n",
            "Increase the number of iterations (max_iter) or scale the data as shown in:\n",
            "    https://scikit-learn.org/stable/modules/preprocessing.html\n",
            "Please also refer to the documentation for alternative solver options:\n",
            "    https://scikit-learn.org/stable/modules/linear_model.html#logistic-regression\n",
            "  n_iter_i = _check_optimize_result(\n"
          ]
        },
        {
          "name": "stdout",
          "output_type": "stream",
          "text": [
            "CPU times: user 16.9 s, sys: 1.08 s, total: 17.9 s\n",
            "Wall time: 10.2 s\n"
          ]
        },
        {
          "data": {
            "text/plain": [
              "0.46733234317884986"
            ]
          },
          "execution_count": 196,
          "metadata": {},
          "output_type": "execute_result"
        }
      ],
      "source": [
        "%%time\n",
        "logreg = LogisticRegression()\n",
        "logreg.fit(X_train, y_train)\n",
        "\n",
        "lr_predictions = logreg.predict_proba(X_val)[:, 1]\n",
        "gini_score(y_val.to_numpy(), lr_predictions)"
      ]
    },
    {
      "cell_type": "markdown",
      "metadata": {
        "id": "d3V0V9SLu48m"
      },
      "source": [
        "Выбираем топ500 по значимости веса"
      ]
    },
    {
      "cell_type": "code",
      "execution_count": 202,
      "metadata": {
        "id": "Xi0uGCjgUP0S"
      },
      "outputs": [],
      "source": [
        "important_features = logreg.coef_[0].argsort()[-500:]"
      ]
    },
    {
      "cell_type": "markdown",
      "metadata": {
        "id": "7gINIH-zvuaZ"
      },
      "source": [
        "обучаем на них"
      ]
    },
    {
      "cell_type": "code",
      "execution_count": 203,
      "metadata": {
        "colab": {
          "base_uri": "https://localhost:8080/"
        },
        "id": "ZcHqTubcvDXF",
        "outputId": "130a40ab-f8ff-418b-9991-03c138d52948"
      },
      "outputs": [
        {
          "name": "stderr",
          "output_type": "stream",
          "text": [
            "/usr/local/lib/python3.10/dist-packages/sklearn/linear_model/_logistic.py:458: ConvergenceWarning: lbfgs failed to converge (status=1):\n",
            "STOP: TOTAL NO. of ITERATIONS REACHED LIMIT.\n",
            "\n",
            "Increase the number of iterations (max_iter) or scale the data as shown in:\n",
            "    https://scikit-learn.org/stable/modules/preprocessing.html\n",
            "Please also refer to the documentation for alternative solver options:\n",
            "    https://scikit-learn.org/stable/modules/linear_model.html#logistic-regression\n",
            "  n_iter_i = _check_optimize_result(\n"
          ]
        },
        {
          "name": "stdout",
          "output_type": "stream",
          "text": [
            "CPU times: user 4.4 s, sys: 936 ms, total: 5.34 s\n",
            "Wall time: 5.74 s\n"
          ]
        },
        {
          "data": {
            "text/plain": [
              "0.10315121215416201"
            ]
          },
          "execution_count": 203,
          "metadata": {},
          "output_type": "execute_result"
        }
      ],
      "source": [
        "%%time\n",
        "X_train_important = X_train.iloc[:, important_features]\n",
        "X_val_important = X_val.iloc[:, important_features]\n",
        "\n",
        "logreg_important = LogisticRegression()\n",
        "logreg_important.fit(X_train_important, y_train)\n",
        "\n",
        "y_pred_important = logreg_important.predict(X_val_important)\n",
        "gini_score(y_val.to_numpy(), y_pred_important)"
      ]
    },
    {
      "cell_type": "markdown",
      "metadata": {
        "id": "XhrsiYtPwMX0"
      },
      "source": [
        "Отбираем по l1 регуляризации"
      ]
    },
    {
      "cell_type": "code",
      "execution_count": 209,
      "metadata": {
        "colab": {
          "base_uri": "https://localhost:8080/"
        },
        "id": "lDllrb4y6X24",
        "outputId": "d665063c-2887-4f5b-bd3f-364e739300e8"
      },
      "outputs": [
        {
          "name": "stdout",
          "output_type": "stream",
          "text": [
            "0.2670649064244721\n"
          ]
        }
      ],
      "source": [
        "model = LogisticRegression(penalty='l1', solver='liblinear')\n",
        "model.fit(X_train, y_train)\n",
        "\n",
        "coefficients = model.coef_[0]\n",
        "\n",
        "non_zero_features = np.where(coefficients != 0)[0]\n",
        "\n",
        "X_train_selected = X_train.iloc[:, non_zero_features]\n",
        "X_val_selected = X_val.iloc[:, non_zero_features]\n",
        "\n",
        "logreg_l1 = LogisticRegression()\n",
        "logreg_l1.fit(X_val_selected, y_train)\n",
        "\n",
        "lr_predictions = logreg_l1.predict_proba(X_val_selected)[:, 1]\n",
        "print(gini_score(y_val.to_numpy(), lr_predictions))"
      ]
    },
    {
      "cell_type": "markdown",
      "metadata": {
        "id": "ZynVsABy8PQm"
      },
      "source": [
        "по l1 лучше отбор получается чем в ручную по весам, но все это хуже чем изначальный вариант"
      ]
    },
    {
      "cell_type": "markdown",
      "metadata": {
        "id": "KVEZHHhTUQft"
      },
      "source": [
        "# 9. *Try to apply non-linear variants of SVM,\n",
        "use the RAPIDS library if you have access to GPU. In other cases, use sklearn SVC with a non-linear kernel. If the training process needs too much time or memory try to subsample training data. Are you able to receive a better Gini score (on valid dataset) with this approach?"
      ]
    },
    {
      "cell_type": "code",
      "execution_count": 212,
      "metadata": {
        "colab": {
          "base_uri": "https://localhost:8080/"
        },
        "id": "owm67HdyZ3Fr",
        "outputId": "645cc8c9-6fed-493d-89a8-4a7c3d9e1bae"
      },
      "outputs": [
        {
          "name": "stdout",
          "output_type": "stream",
          "text": [
            "CPU times: user 26min 28s, sys: 5.35 s, total: 26min 33s\n",
            "Wall time: 26min 42s\n"
          ]
        },
        {
          "data": {
            "text/plain": [
              "0.19815381312340974"
            ]
          },
          "execution_count": 212,
          "metadata": {},
          "output_type": "execute_result"
        }
      ],
      "source": [
        "%%time\n",
        "model = svm.SVC(kernel='rbf', probability=True)\n",
        "\n",
        "model.fit(X_train, y_train)\n",
        "\n",
        "y_pred = model.predict_proba(X_val)[:, 1]\n",
        "gini_score(y_val.to_numpy(), y_pred)\n"
      ]
    },
    {
      "cell_type": "markdown",
      "metadata": {
        "id": "7ZKh27KnS_Wc"
      },
      "source": [
        "нет получилось не лучше чем логрег"
      ]
    },
    {
      "cell_type": "markdown",
      "metadata": {
        "id": "cD1hM19cmvCz"
      },
      "source": [
        "# 10. Select your best model\n",
        " (algorithm + feature set) and tweak its hyperparameters to increase Gini score on the validation dataset.\n",
        "Which hyperparameters are the most impactful?"
      ]
    },
    {
      "cell_type": "markdown",
      "metadata": {
        "id": "WHisSeevVLG2"
      },
      "source": [
        "лучше всех себя показала лог регресиия, ее и буду максимизировать по гиперпараметрам"
      ]
    },
    {
      "cell_type": "code",
      "execution_count": 60,
      "metadata": {
        "colab": {
          "base_uri": "https://localhost:8080/"
        },
        "id": "a7yWBOzzWh7N",
        "outputId": "d39a6b1c-abe4-4430-c619-1e62b38d07ad"
      },
      "outputs": [
        {
          "name": "stdout",
          "output_type": "stream",
          "text": [
            "Finished: lr=0.01, n_iter=50, gini Score:-0.05541681584307945\n",
            "Finished: lr=0.01, n_iter=100, gini Score:-0.05541681584307945\n",
            "Finished: lr=0.01, n_iter=200, gini Score:-0.05541681584307945\n",
            "Finished: lr=0.001, n_iter=50, gini Score:-0.05541681584307945\n",
            "Finished: lr=0.001, n_iter=100, gini Score:0.308373205203476\n",
            "Finished: lr=0.001, n_iter=200, gini Score:-0.05541681584307945\n",
            "Finished: lr=0.0005, n_iter=50, gini Score:-0.05541681584307945\n",
            "Finished: lr=0.0005, n_iter=100, gini Score:0.3083725497285372\n",
            "Finished: lr=0.0005, n_iter=200, gini Score:-0.05541681584307945\n",
            "Best Gini Score: 0.308373205203476\n",
            "Best Learning Rate: 0.001\n",
            "Best Number of Iterations: 100\n",
            "CPU times: user 5min 5s, sys: 7min 38s, total: 12min 43s\n",
            "Wall time: 8min 54s\n"
          ]
        }
      ],
      "source": [
        "%%time\n",
        "learning_rates = [0.01, 0.001, 0.0005]\n",
        "num_iters = [50, 100, 200]\n",
        "\n",
        "best_gini_score = -1\n",
        "best_lr = None\n",
        "best_num_iter = None\n",
        "\n",
        "for lr in learning_rates:\n",
        "    for num_iter in num_iters:\n",
        "        # print(f'started: lr={lr}, n_iter={num_iter}')\n",
        "        model = MyLogisticRegression(learning_rate=lr, num_iter=num_iter)\n",
        "        model.fit(X_train, y_train)\n",
        "        y_pred_proba = model.predict_proba(X_val)\n",
        "        current_gini_score = gini_score(y_val.to_numpy(), y_pred_proba)\n",
        "        print(f'Finished: lr={lr}, n_iter={num_iter}, gini Score:{current_gini_score}')\n",
        "\n",
        "        if current_gini_score > best_gini_score:\n",
        "            best_gini_score = current_gini_score\n",
        "            best_lr = lr\n",
        "            best_num_iter = num_iter\n",
        "\n",
        "print(\"Best Gini Score:\", best_gini_score)\n",
        "print(\"Best Learning Rate:\", best_lr)\n",
        "print(\"Best Number of Iterations:\", best_num_iter)"
      ]
    },
    {
      "cell_type": "markdown",
      "metadata": {
        "id": "HXdTPm70nCmk"
      },
      "source": [
        "# 11. Check Gini scores\n",
        " on all three datasets for your best model: train Gini, valid Gini, test Gini. Can you see any drop in performance when comparing valid quality vs test quality? Is your model overfitted or not? Explain."
      ]
    },
    {
      "cell_type": "code",
      "execution_count": 62,
      "metadata": {
        "colab": {
          "base_uri": "https://localhost:8080/"
        },
        "id": "bnA-G01EnQCx",
        "outputId": "93f65c65-840f-4613-ce65-e39401d274d6"
      },
      "outputs": [
        {
          "name": "stdout",
          "output_type": "stream",
          "text": [
            "Train Gini:  0.33285295867409026\n",
            "Val Gini  :  0.308373205203476\n",
            "Test Gini :  0.3240141147204838\n",
            "CPU times: user 29.1 s, sys: 42.9 s, total: 1min 12s\n",
            "Wall time: 52.7 s\n"
          ]
        }
      ],
      "source": [
        "%%time\n",
        "best_model = MyLogisticRegression(learning_rate=0.001, num_iter=100)\n",
        "best_model.fit(X_train, y_train)\n",
        "\n",
        "print(\"Train Gini: \", gini_score(y_train.to_numpy(), best_model.predict_proba(X_train)))\n",
        "print(\"Val Gini  : \", gini_score(y_val.to_numpy(), best_model.predict_proba(X_val)))\n",
        "print(\"Test Gini : \", gini_score(y_test.to_numpy(), best_model.predict_proba(X_test)))\n"
      ]
    },
    {
      "cell_type": "markdown",
      "metadata": {
        "id": "O8xYGSQ32YVw"
      },
      "source": [
        "Модель не переобучена, тк показатель Джини довольно стабилен"
      ]
    },
    {
      "cell_type": "markdown",
      "metadata": {
        "id": "xhk7q9Q-nSh5"
      },
      "source": [
        "# 12. Implement calculation or Recall, Precision, F1 score and AUC PR metrics.\n",
        "Compare your algorithms on the test dataset using AUC PR metric."
      ]
    },
    {
      "cell_type": "code",
      "execution_count": 71,
      "metadata": {
        "id": "G47Q6Y-JnCkN"
      },
      "outputs": [],
      "source": [
        "def calculate_recall(y_true, y_pred):\n",
        "    true_positives = np.sum(np.logical_and(y_true == 1, y_pred == 1))\n",
        "    actual_positives = np.sum(y_true == 1)\n",
        "    recall = true_positives / actual_positives\n",
        "    return recall\n",
        "\n",
        "def calculate_precision(y_true, y_pred):\n",
        "    true_positives = np.sum(np.logical_and(y_true == 1, y_pred == 1))\n",
        "    predicted_positives = np.sum(y_pred == 1)\n",
        "    precision = true_positives / predicted_positives\n",
        "    return precision\n",
        "\n",
        "def calculate_f1_score(y_true, y_pred):\n",
        "    recall = calculate_recall(y_true, y_pred)\n",
        "    precision = calculate_precision(y_true, y_pred)\n",
        "    f1_score = 2 * (precision * recall) / (precision + recall)\n",
        "    return f1_score\n",
        "\n",
        "def calculate_auc_pr(y_true, y_pred_proba):\n",
        "    sorted_indices = np.argsort(y_pred_proba)[::-1]\n",
        "    y_true_sorted = y_true[sorted_indices]\n",
        "    y_pred_proba_sorted = y_pred_proba[sorted_indices]\n",
        "    precision = np.cumsum(y_true_sorted) / np.arange(1, len(y_true_sorted) + 1)\n",
        "    auc_pr = np.sum(precision * y_true_sorted) / np.sum(y_true_sorted)\n",
        "    return auc_pr"
      ]
    },
    {
      "cell_type": "code",
      "execution_count": 72,
      "metadata": {
        "colab": {
          "base_uri": "https://localhost:8080/"
        },
        "id": "WLIN0aJJnGmy",
        "outputId": "5be0115b-b132-4588-a01c-d25f199b9ec9"
      },
      "outputs": [
        {
          "data": {
            "text/plain": [
              "0.2237640684953177"
            ]
          },
          "execution_count": 72,
          "metadata": {},
          "output_type": "execute_result"
        }
      ],
      "source": [
        "calculate_auc_pr(y_test.to_numpy(), my_logreg.predict_proba(X_test))"
      ]
    },
    {
      "cell_type": "code",
      "execution_count": 70,
      "metadata": {
        "colab": {
          "base_uri": "https://localhost:8080/"
        },
        "id": "kQS1VETll3zz",
        "outputId": "477a545b-adc6-4b90-b43a-88ca230840aa"
      },
      "outputs": [
        {
          "data": {
            "text/plain": [
              "0.2235992430399681"
            ]
          },
          "execution_count": 70,
          "metadata": {},
          "output_type": "execute_result"
        }
      ],
      "source": [
        "precision, recall, thresholds = precision_recall_curve(y_test.to_numpy(), my_logreg.predict_proba(X_test))\n",
        "auc(recall, precision)"
      ]
    },
    {
      "cell_type": "markdown",
      "metadata": {
        "id": "soU9P8Gvnb3c"
      },
      "source": [
        "# 13. Which hard label metric do you prefer for the task of detecting “lemon” cars?"
      ]
    },
    {
      "cell_type": "code",
      "execution_count": 74,
      "metadata": {
        "colab": {
          "base_uri": "https://localhost:8080/"
        },
        "id": "fqeN0PaKnh8m",
        "outputId": "24659067-c008-4570-c3ee-f0142297fc57"
      },
      "outputs": [
        {
          "data": {
            "text/plain": [
              "array([3])"
            ]
          },
          "execution_count": 74,
          "metadata": {},
          "output_type": "execute_result"
        }
      ],
      "source": [
        "logreg.coef_[0].argsort()[-1:]"
      ]
    },
    {
      "cell_type": "code",
      "execution_count": 78,
      "metadata": {
        "colab": {
          "base_uri": "https://localhost:8080/",
          "height": 35
        },
        "id": "3u4bp5HonryU",
        "outputId": "a46868bc-0b0e-4c91-dfc9-1e424e9e0ee8"
      },
      "outputs": [
        {
          "data": {
            "application/vnd.google.colaboratory.intrinsic+json": {
              "type": "string"
            },
            "text/plain": [
              "'WheelType'"
            ]
          },
          "execution_count": 78,
          "metadata": {},
          "output_type": "execute_result"
        }
      ],
      "source": [
        "X_train.iloc[:, logreg.coef_[0].argsort()[-1:]].columns[0]"
      ]
    },
    {
      "cell_type": "markdown",
      "metadata": {
        "id": "CT63q5u9oS1J"
      },
      "source": [
        "самый значимы признак для определения \"кислой\" машины это \"WheelType\""
      ]
    },
    {
      "cell_type": "code",
      "execution_count": null,
      "metadata": {
        "id": "x0S7brPboEIA"
      },
      "outputs": [],
      "source": []
    }
  ],
  "metadata": {
    "colab": {
      "provenance": [],
      "toc_visible": true
    },
    "kernelspec": {
      "display_name": "Python 3",
      "name": "python3"
    },
    "language_info": {
      "name": "python"
    }
  },
  "nbformat": 4,
  "nbformat_minor": 0
}
